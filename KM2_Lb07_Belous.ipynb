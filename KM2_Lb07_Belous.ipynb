{
 "cells": [
  {
   "cell_type": "markdown",
   "id": "5da6b7ff-a62f-4486-a506-e5eaff1012d6",
   "metadata": {},
   "source": [
    "# Лабораторная работа 7. Построение бинарного дерева поиска. Подсчет количества элементов в дереве"
   ]
  },
  {
   "cell_type": "markdown",
   "id": "0eb60b89-b0f4-4018-bd42-6f2d423afbdf",
   "metadata": {},
   "source": [
    "Белоус Мария Руслановна 27.04.2025\n"
   ]
  },
  {
   "cell_type": "markdown",
   "id": "182e018f-e246-4d0c-b716-c1006482ab90",
   "metadata": {},
   "source": [
    "### Задание 7.1. Определение классов"
   ]
  },
  {
   "cell_type": "markdown",
   "id": "264c77c9-1ed4-4964-8001-366122f1150f",
   "metadata": {},
   "source": [
    "Напишите базовое определение классов `BinaryTree`, `BinaryNode`, `EmptyNode` на основе лекционных материалов."
   ]
  },
  {
   "cell_type": "markdown",
   "id": "6ab22521-b5f2-4176-9cd8-c52efaefd669",
   "metadata": {},
   "source": [
    "Напишите комментарии для каждой строки кода в определении классов `BinaryTree`, `BinaryNode`, `EmptyNode`"
   ]
  },
  {
   "cell_type": "code",
   "execution_count": 2,
   "id": "7d0c918a-bb4e-4f16-9e77-9354de393ad9",
   "metadata": {},
   "outputs": [],
   "source": [
    "class BinaryTree:\n",
    "    \"\"\"Бинарное дерево, управляющее корневым узлом\"\"\"\n",
    "    def __init__(self):\n",
    "        self.root = EmptyNode()  # пустое дерево\n",
    "        \n",
    "    def __repr__(self):\n",
    "        \"\"\"Строковое представление дерева\"\"\"\n",
    "        return repr(self.root)\n",
    "        \n",
    "    def insert(self, value):\n",
    "        \"\"\"Вставка значения в дерево\"\"\"\n",
    "        self.root = self.root.insert(value)  # делегируем вставку узлу\n",
    "\n",
    "    def build_from_list(self, data):\n",
    "        \"\"\"Построение дерева из списка значений\"\"\"\n",
    "        for value in data:\n",
    "            self.insert(value)\n",
    "        return self\n",
    "\n",
    "class BinaryNode:\n",
    "    \"\"\"Узел дерева\"\"\"\n",
    "    def __init__(self, left, value, right):\n",
    "        self.left = left    # левый узел (BinaryNode или EmptyNode)\n",
    "        self.value = value  # значение узла\n",
    "        self.right = right  # правый узел (BinaryNode или EmptyNode)\n",
    "        \n",
    "    def __repr__(self):\n",
    "        \"\"\"Вывод узла в виде (левый, значение, правый)\"\"\"\n",
    "        return f'({self.left}, {self.value}, {self.right})'\n",
    "\n",
    "\n",
    "class EmptyNode:\n",
    "    \"\"\"Пустой узел\"\"\"\n",
    "    def __repr__(self):\n",
    "        \"\"\"Вывод пустого узла\"\"\"\n",
    "        return '*'\n",
    "    \n",
    "    def insert(self, value):\n",
    "        \"\"\"Создаёт новый узел при вставке значения\"\"\"\n",
    "        return BinaryNode(self, value, self)"
   ]
  },
  {
   "cell_type": "markdown",
   "id": "c3b94e97-dc57-4eae-8a57-1f1908465c02",
   "metadata": {},
   "source": [
    "### Задание 7.2. Метод вставки элемента в бинарное дерево поиска"
   ]
  },
  {
   "cell_type": "markdown",
   "id": "51e2f84a-e484-44f3-a944-94aca018c9ff",
   "metadata": {},
   "source": [
    "Переопределите класс `BinaryNode` за счет определения метода вставки `insert(self, value)`. Рекомендации по выполнению представлены в лекции к теме Бинарное дерево поиска. Реализация на основе ООП."
   ]
  },
  {
   "cell_type": "code",
   "execution_count": 3,
   "id": "0179ae5b-8f30-4fab-80c4-e6178b1c6cea",
   "metadata": {},
   "outputs": [],
   "source": [
    "class BinaryNode:\n",
    "    \"\"\"Узел бинарного дерева поиска (BST)\"\"\"\n",
    "    def __init__(self, left, value, right):\n",
    "        self.left = left    # левый потомок (BinaryNode или EmptyNode)\n",
    "        self.value = value  # значение узла\n",
    "        self.right = right  # правый потомок (BinaryNode или EmptyNode)\n",
    "        \n",
    "    def __repr__(self):\n",
    "        return f'({self.left}, {self.value}, {self.right})'\n",
    "    \n",
    "    def insert(self, value):\n",
    "        \"\"\"Рекурсивная вставка значения согласно правилам BST\"\"\"\n",
    "        if value < self.value:\n",
    "            self.left = self.left.insert(value)  # влево, если значение меньше\n",
    "        else:\n",
    "            self.right = self.right.insert(value) # вправо, если >=\n",
    "        return self"
   ]
  },
  {
   "cell_type": "markdown",
   "id": "32a11fbf-514e-4e7e-b072-2e7d01665c47",
   "metadata": {},
   "source": [
    "Приведите три примера построения бинарного дерева поиска на основе итерируемых объектов различных типов (например, `str`, `range`, `list`)."
   ]
  },
  {
   "cell_type": "markdown",
   "id": "a1fcf5cb-ceed-44e4-862c-34ab6bc8852d",
   "metadata": {},
   "source": [
    "Пример 1: Числа (тип `int`)"
   ]
  },
  {
   "cell_type": "code",
   "execution_count": 4,
   "id": "3fa02310-324b-4e8d-b8b5-ba4fd8fa5b02",
   "metadata": {},
   "outputs": [
    {
     "name": "stdout",
     "output_type": "stream",
     "text": [
      "(((*, 2, *), 3, (*, 4, *)), 5, (*, 7, *))\n"
     ]
    }
   ],
   "source": [
    "nums = [5, 3, 7, 2, 4]\n",
    "tree = BinaryTree()\n",
    "for num in nums:\n",
    "    tree.insert(num)\n",
    "\n",
    "print(tree)"
   ]
  },
  {
   "cell_type": "markdown",
   "id": "c6bbe976-5451-4ace-8351-5d062fd5e1bf",
   "metadata": {},
   "source": [
    "Пример 2: Объекты `range`"
   ]
  },
  {
   "cell_type": "code",
   "execution_count": 5,
   "id": "cd60d9b3-93b5-4c83-bd10-21eb0a8424e4",
   "metadata": {},
   "outputs": [
    {
     "name": "stdout",
     "output_type": "stream",
     "text": [
      "(*, 1, (*, 2, (*, 3, (*, 4, (*, 5, *)))))\n"
     ]
    }
   ],
   "source": [
    "tree = BinaryTree()\n",
    "for i in range(1, 6):\n",
    "    tree.insert(i)\n",
    "\n",
    "print(tree)"
   ]
  },
  {
   "cell_type": "markdown",
   "id": "04a69318-7a27-4611-9627-f20ddd73193a",
   "metadata": {},
   "source": [
    "Пример 3: Строки (тип `str`)"
   ]
  },
  {
   "cell_type": "markdown",
   "id": "5a32a092-703f-4b41-8d1e-9954f09068dd",
   "metadata": {},
   "source": [
    "tree = BinaryTree()\n",
    "for char in \"banana\":\n",
    "    tree.insert(char)\n",
    "\n",
    "print(tree)"
   ]
  },
  {
   "cell_type": "markdown",
   "id": "749a78b0-a2c4-4f9d-9ae3-b3e70950d68d",
   "metadata": {},
   "source": [
    "Протестируйте корректность построения бинарного дерева поиска на основе вставки в дерево элементов некоторого итерируемого объекта. При этом важно, чтобы для элементов итерируемого объекта были определены операции сравнения."
   ]
  },
  {
   "cell_type": "markdown",
   "id": "e63d17fd-af22-4d13-afbe-83ed50833442",
   "metadata": {},
   "source": [
    "Тест 1: Вставка дубликатов"
   ]
  },
  {
   "cell_type": "code",
   "execution_count": 7,
   "id": "c95c27aa-0d4d-4d18-bf08-bf43656bf665",
   "metadata": {},
   "outputs": [
    {
     "name": "stdout",
     "output_type": "stream",
     "text": [
      "(*, 5, (*, 5, *))\n"
     ]
    }
   ],
   "source": [
    "tree = BinaryTree()\n",
    "tree.insert(5)\n",
    "tree.insert(5)\n",
    "print(tree) "
   ]
  },
  {
   "cell_type": "markdown",
   "id": "0b8e69a7-d4a3-4f65-a484-6a262c8ac602",
   "metadata": {},
   "source": [
    "Тест 2: Сравнение строк"
   ]
  },
  {
   "cell_type": "code",
   "execution_count": 8,
   "id": "d23e70cb-08fc-4cb1-9d70-abbca71b57da",
   "metadata": {},
   "outputs": [
    {
     "name": "stdout",
     "output_type": "stream",
     "text": [
      "(*, apple, (*, banana, *))\n"
     ]
    }
   ],
   "source": [
    "tree = BinaryTree()\n",
    "tree.insert(\"apple\")\n",
    "tree.insert(\"banana\")\n",
    "print(tree)"
   ]
  },
  {
   "cell_type": "markdown",
   "id": "84ef707f-fd78-4597-854b-0fce364cfe64",
   "metadata": {},
   "source": [
    "# Задание 7.3. Построение бинарного дерева поиска"
   ]
  },
  {
   "cell_type": "markdown",
   "id": "9cbb29c5-bb11-4271-add0-2a063562945b",
   "metadata": {},
   "source": [
    "Прочитайте числовые данные, записанные в файлы, и постройте на основании этих данных бинарные деревья поиска.\n",
    "\n",
    "Рассмотрите четыре варианта хранения данных в файлах:"
   ]
  },
  {
   "cell_type": "markdown",
   "id": "03edcf02-8da9-483c-a3bf-10a849fe317a",
   "metadata": {},
   "source": [
    "1.числовые данные хранятся в текстовом файле и записаны в столбец;\n",
    "2.числовые данные хранятся в текстовом файле, записаны в строки, разделены пробелами, в каждой строке расположено одинаковое количество числовых значений;\n",
    "3.числовые данные хранятся в текстовом файле, записаны в строки, разделены пробелами, в каждой строке расположено различное количество числовых значений;\n",
    "4.числовые данные хранятся в файле формата `json`."
   ]
  },
  {
   "cell_type": "markdown",
   "id": "59c10c33-5d02-45d5-b11f-ff9f0d7544a4",
   "metadata": {},
   "source": [
    "Рекомендации по выполнению:"
   ]
  },
  {
   "cell_type": "markdown",
   "id": "4b9e51b5-7c8b-446e-abc6-e96bc60fa571",
   "metadata": {},
   "source": [
    "- cтроковый метод `split` разбирает строку на список подстрок по разделителю;\n",
    "- строковые объекты нужно преобразовывать в числовые объекты перед их записью в бинарное дерево поиска;\n",
    "- функция `loadtxt` из расширения numpy читает числовые даннные из текстового файла без предварительного создания файлового объекта; в каждой строке файла должно быть расположено одинаковое количество числовых значений;\n",
    "- для работы с файлами в формате `json` используйте, например, функции `load` и `values` из модуля `json`. Для используемых функций модуля сформулируйте спецификации."
   ]
  },
  {
   "cell_type": "code",
   "execution_count": 9,
   "id": "50f3b248-6aa3-46fc-aab1-3e6801cb5dcb",
   "metadata": {},
   "outputs": [],
   "source": [
    "import json\n",
    "import numpy as np\n",
    "\n",
    "def read_column_file(filename):\n",
    "    \"\"\"Чтение данных из файла с числами в столбец\"\"\"\n",
    "    data = []\n",
    "    try:\n",
    "        with open(filename, 'r') as file:\n",
    "            for line in file:\n",
    "                stripped = line.strip()\n",
    "                if stripped:\n",
    "                    try:\n",
    "                        data.append(float(stripped))\n",
    "                    except ValueError:\n",
    "                        continue\n",
    "    except FileNotFoundError:\n",
    "        print(f\"Файл {filename} не найден.\")\n",
    "    return data\n",
    "\n",
    "def read_grid_file(filename):\n",
    "    \"\"\"Чтение данных из файла с сеткой чисел (одинаковое количество в строках)\"\"\"\n",
    "    try:\n",
    "        return np.loadtxt(filename).flatten().tolist()\n",
    "    except Exception as e:\n",
    "        print(f\"Ошибка: {e}\")\n",
    "        return []\n",
    "\n",
    "def read_arbitrary_file(filename):\n",
    "    \"\"\"Чтение данных из файла с произвольными строками\"\"\"\n",
    "    data = []\n",
    "    try:\n",
    "        with open(filename, 'r') as file:\n",
    "            for line in file:\n",
    "                try:\n",
    "                    nums = list(map(float, line.strip().split()))\n",
    "                    data.extend(nums)\n",
    "                except ValueError:\n",
    "                    continue\n",
    "    except FileNotFoundError:\n",
    "        print(f\"Файл {filename} не найден.\")\n",
    "    return data\n",
    "\n",
    "def read_json_file(filename):\n",
    "    \"\"\"Чтение данных из JSON-файла\"\"\"\n",
    "    try:\n",
    "        with open(filename, 'r') as file:\n",
    "            data = json.load(file)\n",
    "        flattened = []\n",
    "        def flatten(lst):\n",
    "            for item in lst:\n",
    "                if isinstance(item, list):\n",
    "                    flatten(item)\n",
    "                else:\n",
    "                    flattened.append(float(item))\n",
    "        flatten(data)\n",
    "        return flattened\n",
    "    except Exception as e:\n",
    "        print(f\"Ошибка: {e}\")\n",
    "        return []"
   ]
  },
  {
   "cell_type": "markdown",
   "id": "2d4751e8-efd0-45ff-980e-1f93c533db2b",
   "metadata": {},
   "source": [
    "Пример 1. Файл `column.txt` (Столбец чисел)"
   ]
  },
  {
   "cell_type": "markdown",
   "id": "10cdac14-3133-47e4-a27c-09fe5276dcd8",
   "metadata": {},
   "source": [
    "tree = BinaryTree()\n",
    "data = read_column_file(\"column.txt\")\n",
    "tree.build_from_list(data)\n",
    "print(tree)"
   ]
  },
  {
   "cell_type": "markdown",
   "id": "9c6fa621-c8ed-4cda-9a62-e8b4f21f5004",
   "metadata": {},
   "source": [
    "Пример 2. Файл `grid.txt` (Сетка чисел)"
   ]
  },
  {
   "cell_type": "code",
   "execution_count": 11,
   "id": "806627f7-5831-4aed-9bdc-ef459626889a",
   "metadata": {},
   "outputs": [
    {
     "name": "stdout",
     "output_type": "stream",
     "text": [
      "Ошибка: grid.txt not found.\n",
      "*\n"
     ]
    }
   ],
   "source": [
    "tree = BinaryTree()\n",
    "data = read_grid_file(\"grid.txt\") \n",
    "tree.build_from_list(data)\n",
    "print(tree)"
   ]
  },
  {
   "cell_type": "markdown",
   "id": "1a6e9a7d-e9c4-4318-8b1e-75a7a1deab69",
   "metadata": {},
   "source": [
    "Пример 3. JSON-файл `data.json`"
   ]
  },
  {
   "cell_type": "code",
   "execution_count": 12,
   "id": "14a42ffd-ce6d-4aae-95e1-6154d9d284be",
   "metadata": {},
   "outputs": [
    {
     "name": "stdout",
     "output_type": "stream",
     "text": [
      "Ошибка: [Errno 2] No such file or directory: 'data.json'\n",
      "*\n"
     ]
    }
   ],
   "source": [
    "tree = BinaryTree()\n",
    "data = read_json_file(\"data.json\")\n",
    "tree.build_from_list(data)\n",
    "print(tree)"
   ]
  },
  {
   "cell_type": "markdown",
   "id": "b3704c28-0c90-4d67-9854-7afba218f401",
   "metadata": {},
   "source": [
    "Пример 4. Файл с произвольными строками `arbitrary.txt` (Произвольные строки)"
   ]
  },
  {
   "cell_type": "code",
   "execution_count": 13,
   "id": "322fc806-3768-4d84-be42-98aa4ca10b76",
   "metadata": {},
   "outputs": [
    {
     "name": "stdout",
     "output_type": "stream",
     "text": [
      "Файл arbitrary.txt не найден.\n",
      "*\n"
     ]
    }
   ],
   "source": [
    "tree = BinaryTree()\n",
    "data = read_arbitrary_file(\"arbitrary.txt\")  \n",
    "tree.build_from_list(data)\n",
    "print(tree)"
   ]
  },
  {
   "cell_type": "markdown",
   "id": "9a152159-1cd1-4fc3-b26c-f6676b0bbead",
   "metadata": {},
   "source": [
    "# Задание 7.4. Перегрузка операции принадлежности `n`"
   ]
  },
  {
   "cell_type": "markdown",
   "id": "2c64bf3d-ca07-449a-8c99-669b6b23a5f2",
   "metadata": {},
   "source": [
    "Переопределите классы `BinaryTree`, `BinaryNode`, `EmptyNode` за счет определения нового метода `__contains__(self, value)` для перегрузки операции принадлежности `in`. Рекомендации по выполнению представлены в лекции к теме Бинарное дерево поиска. Реализация на основе ООП."
   ]
  },
  {
   "cell_type": "code",
   "execution_count": 15,
   "id": "2c7eeb05-195c-4e38-a955-4fddb574b33b",
   "metadata": {},
   "outputs": [],
   "source": [
    "class EmptyNode:\n",
    "    \"\"\"Пустой узел\"\"\"\n",
    "    def __repr__(self):\n",
    "        return '*'\n",
    "    \n",
    "    def insert(self, value):\n",
    "        return BinaryNode(EmptyNode(), value, EmptyNode())\n",
    "    \n",
    "    def __contains__(self, value):\n",
    "        \"\"\"Пустой узел никогда не содержит значений\"\"\"\n",
    "        return False\n",
    "\n",
    "class BinaryNode:\n",
    "    \"\"\"Узел бинарного дерева поиска\"\"\"\n",
    "    def __init__(self, left, value, right):\n",
    "        self.left = left    \n",
    "        self.value = value  \n",
    "        self.right = right  \n",
    "        \n",
    "    def __repr__(self):\n",
    "        return f'({self.left}, {self.value}, {self.right})'\n",
    "    \n",
    "    def insert(self, value):\n",
    "        if value < self.value:\n",
    "            self.left = self.left.insert(value)\n",
    "        else:\n",
    "            self.right = self.right.insert(value)\n",
    "        return self\n",
    "    \n",
    "    def __contains__(self, value):\n",
    "        \"\"\"Проверка наличия значения в узле или его потомках\"\"\"\n",
    "        if value == self.value:\n",
    "            return True\n",
    "        elif value < self.value:\n",
    "            return value in self.left  # рекурсивный поиск в левом поддереве\n",
    "        else:\n",
    "            return value in self.right # рекурсивный поиск в правом поддереве\n",
    "\n",
    "class BinaryTree:\n",
    "    \"\"\"Бинарное дерево поиска\"\"\"\n",
    "    def __init__(self):\n",
    "        self.root = EmptyNode()\n",
    "        \n",
    "    def __repr__(self):\n",
    "        return repr(self.root)\n",
    "    \n",
    "    def insert(self, value):\n",
    "        self.root = self.root.insert(value)\n",
    "    \n",
    "    def __contains__(self, value):\n",
    "        \"\"\"Проверка наличия значения в дереве\"\"\"\n",
    "        return value in self.root"
   ]
  },
  {
   "cell_type": "markdown",
   "id": "81f0a1e0-0c89-4fd4-81a5-1fe88608ef00",
   "metadata": {},
   "source": [
    "Протестируйте корректность выполнения операции `in` на трех примерах."
   ]
  },
  {
   "cell_type": "code",
   "execution_count": 16,
   "id": "752fb7b5-4ec8-4ea9-b42e-3a81d2611315",
   "metadata": {},
   "outputs": [
    {
     "name": "stdout",
     "output_type": "stream",
     "text": [
      "(*, 5, *)\n",
      "((*, 1, *), 5, *)\n",
      "((*, 1, *), 5, (*, 10, *))\n",
      "((*, 1, (*, 3, *)), 5, (*, 10, *))\n",
      "((*, 1, (*, 3, (*, 4, *))), 5, (*, 10, *))\n",
      "(0, False) (1, True) (2, False) (3, True) (4, True) (5, True) (6, False) (7, False) (8, False) (9, False) "
     ]
    }
   ],
   "source": [
    "source_data = [5,1,10,3,4]\n",
    "tree = BinaryTree()\n",
    "for i in source_data:\n",
    "    tree.insert(i)\n",
    "    print(tree)\n",
    "for i in range(10):\n",
    "    print((i, i in tree), end = ' ')"
   ]
  },
  {
   "cell_type": "markdown",
   "id": "74eaed4d-e337-4f5f-a60e-34c78cca08d9",
   "metadata": {},
   "source": [
    "Пример 1: Простое дерево с числами"
   ]
  },
  {
   "cell_type": "code",
   "execution_count": 17,
   "id": "460ed832-2c41-4e5e-b834-2181791d309e",
   "metadata": {},
   "outputs": [
    {
     "name": "stdout",
     "output_type": "stream",
     "text": [
      "True\n",
      "False\n"
     ]
    }
   ],
   "source": [
    "tree = BinaryTree()\n",
    "data = [5, 3, 7, 2, 4]\n",
    "for num in data:\n",
    "    tree.insert(num)\n",
    "\n",
    "print(3 in tree) \n",
    "print(6 in tree)"
   ]
  },
  {
   "cell_type": "markdown",
   "id": "04b95981-eaff-4309-90f6-0c587353443b",
   "metadata": {},
   "source": [
    "Пример 2: Дерево с одним элементом"
   ]
  },
  {
   "cell_type": "code",
   "execution_count": 18,
   "id": "04adab84-87c5-4434-8aa5-820790251beb",
   "metadata": {},
   "outputs": [
    {
     "name": "stdout",
     "output_type": "stream",
     "text": [
      "True\n",
      "False\n"
     ]
    }
   ],
   "source": [
    "tree = BinaryTree()\n",
    "tree.insert(10)\n",
    "\n",
    "print(10 in tree)  \n",
    "print(5 in tree)"
   ]
  },
  {
   "cell_type": "markdown",
   "id": "b7b01dca-c296-4621-acc6-556bcff60ce8",
   "metadata": {},
   "source": [
    "Пример 3: Пустое дерево"
   ]
  },
  {
   "cell_type": "code",
   "execution_count": 19,
   "id": "2b34eb08-c332-47e5-a01e-0e1a661ba3f4",
   "metadata": {},
   "outputs": [
    {
     "name": "stdout",
     "output_type": "stream",
     "text": [
      "False\n"
     ]
    }
   ],
   "source": [
    "tree = BinaryTree()\n",
    "\n",
    "print(5 in tree)"
   ]
  },
  {
   "cell_type": "markdown",
   "id": "1585aac9-c0a7-4e29-8e0f-7f6ea3d48518",
   "metadata": {},
   "source": [
    "# Задание 7.5. Перегрузка встроенной функции `len`"
   ]
  },
  {
   "cell_type": "markdown",
   "id": "250bad6a-722e-4f62-ace4-4a1c70ade2c8",
   "metadata": {},
   "source": [
    "Переопределите классы `BinaryTree`, `BinaryNode`, `EmptyNode` за счет определения нового метода `__len__(self)` для перегрузки встроенной функции `len`, которая возвращает количество вершин в бинарном дереве поиска. Рекомендации по выполнению представлены в лекции к теме Бинарное дерево поиска. Реализация на основе ООП."
   ]
  },
  {
   "cell_type": "code",
   "execution_count": 20,
   "id": "199c128f-56e1-47ea-9290-c5a19292ead1",
   "metadata": {},
   "outputs": [],
   "source": [
    "class EmptyNode:\n",
    "    \"\"\"Пустой узел\"\"\"\n",
    "    def __repr__(self):\n",
    "        return '*'\n",
    "    \n",
    "    def insert(self, value):\n",
    "        return BinaryNode(EmptyNode(), value, EmptyNode())\n",
    "    \n",
    "    def __len__(self):\n",
    "        \"\"\"Пустой узел имеет длину 0\"\"\"\n",
    "        return 0\n",
    "\n",
    "class BinaryNode:\n",
    "    \"\"\"Узел бинарного дерева поиска\"\"\"\n",
    "    def __init__(self, left, value, right):\n",
    "        self.left = left    \n",
    "        self.value = value  \n",
    "        self.right = right  \n",
    "        \n",
    "    def __repr__(self):\n",
    "        return f'({self.left}, {self.value}, {self.right})'\n",
    "    \n",
    "    def insert(self, value):\n",
    "        if value < self.value:\n",
    "            self.left = self.left.insert(value)\n",
    "        else:\n",
    "            self.right = self.right.insert(value)\n",
    "        return self\n",
    "    \n",
    "    def __len__(self):\n",
    "        \"\"\"Количество узлов: текущий узел + левое поддерево + правое поддерево\"\"\"\n",
    "        return 1 + len(self.left) + len(self.right)\n",
    "\n",
    "class BinaryTree:\n",
    "    \"\"\"Бинарное дерево поиска\"\"\"\n",
    "    def __init__(self):\n",
    "        self.root = EmptyNode()\n",
    "        \n",
    "    def __repr__(self):\n",
    "        return repr(self.root)\n",
    "    \n",
    "    def insert(self, value):\n",
    "        self.root = self.root.insert(value)\n",
    "    \n",
    "    def __len__(self):\n",
    "        \"\"\"Общее количество узлов в дереве\"\"\"\n",
    "        return len(self.root)"
   ]
  },
  {
   "cell_type": "markdown",
   "id": "bced27af-0d09-4897-ac6f-8da9c7910923",
   "metadata": {},
   "source": [
    "Протестируйте корректность выполнения функции `len` на трех примерах."
   ]
  },
  {
   "cell_type": "code",
   "execution_count": 21,
   "id": "432de82f-45d5-42c0-baeb-4932fe6be130",
   "metadata": {},
   "outputs": [
    {
     "data": {
      "text/plain": [
       "5"
      ]
     },
     "execution_count": 21,
     "metadata": {},
     "output_type": "execute_result"
    }
   ],
   "source": [
    "tree = BinaryTree()\n",
    "for i in source_data:\n",
    "    tree.insert(i)\n",
    "len(tree)"
   ]
  },
  {
   "cell_type": "markdown",
   "id": "9da1cbc2-6656-4aa3-adda-d6872258e392",
   "metadata": {},
   "source": [
    "Пример 1: Пустое дерево"
   ]
  },
  {
   "cell_type": "code",
   "execution_count": 22,
   "id": "3f155be0-5306-46a1-80bf-5de6c2c00bf1",
   "metadata": {},
   "outputs": [
    {
     "name": "stdout",
     "output_type": "stream",
     "text": [
      "0\n"
     ]
    }
   ],
   "source": [
    "tree = BinaryTree()\n",
    "print(len(tree))"
   ]
  },
  {
   "cell_type": "markdown",
   "id": "2e056252-df28-4217-878c-685f75ccb56f",
   "metadata": {},
   "source": [
    "Пример 2: Дерево с одним элементом"
   ]
  },
  {
   "cell_type": "code",
   "execution_count": 23,
   "id": "9d2669ba-572f-436c-a938-5001682dc87f",
   "metadata": {},
   "outputs": [
    {
     "name": "stdout",
     "output_type": "stream",
     "text": [
      "1\n"
     ]
    }
   ],
   "source": [
    "tree.insert(10)\n",
    "print(len(tree))"
   ]
  },
  {
   "cell_type": "markdown",
   "id": "354420c5-cb5c-4b25-9958-84f8f2c9a00f",
   "metadata": {},
   "source": [
    "Пример 3: Дерево с несколькими элементами"
   ]
  },
  {
   "cell_type": "code",
   "execution_count": 24,
   "id": "207ace14-1471-48be-8b5a-987c1f8eb997",
   "metadata": {},
   "outputs": [
    {
     "name": "stdout",
     "output_type": "stream",
     "text": [
      "5\n"
     ]
    }
   ],
   "source": [
    "tree = BinaryTree()\n",
    "values = [5, 3, 7, 2, 4]\n",
    "for v in values:\n",
    "    tree.insert(v)\n",
    "print(len(tree))"
   ]
  },
  {
   "cell_type": "code",
   "execution_count": null,
   "id": "b36d5ecb-2386-49d7-b256-5a0a6cf77ba1",
   "metadata": {},
   "outputs": [],
   "source": []
  }
 ],
 "metadata": {
  "kernelspec": {
   "display_name": "Python 3 (ipykernel)",
   "language": "python",
   "name": "python3"
  },
  "language_info": {
   "codemirror_mode": {
    "name": "ipython",
    "version": 3
   },
   "file_extension": ".py",
   "mimetype": "text/x-python",
   "name": "python",
   "nbconvert_exporter": "python",
   "pygments_lexer": "ipython3",
   "version": "3.12.7"
  }
 },
 "nbformat": 4,
 "nbformat_minor": 5
}
