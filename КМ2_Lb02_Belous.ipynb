{
 "cells": [
  {
   "cell_type": "markdown",
   "id": "0c8aa2cb-dcc1-4de7-b5f4-563062f367d1",
   "metadata": {},
   "source": [
    "# Лабораторная работа 2"
   ]
  },
  {
   "cell_type": "markdown",
   "id": "91e095cc-6abe-47dd-aae9-b919818f2c59",
   "metadata": {},
   "source": [
    "# Встроенные типы объектов в Python"
   ]
  },
  {
   "cell_type": "markdown",
   "id": "e9a20980-b8fb-4517-bf12-62a9e8049946",
   "metadata": {},
   "source": [
    "##### Белоус Мария Руслановна ,14.03.2025"
   ]
  },
  {
   "cell_type": "markdown",
   "id": "655ff60c-0977-4a08-a641-ea1a0a0cc640",
   "metadata": {},
   "source": [
    "## 1.Числовые типы(Numbers)"
   ]
  },
  {
   "cell_type": "markdown",
   "id": "35a1cd52-623e-4d13-9be3-e8cb73180a9a",
   "metadata": {},
   "source": [
    "## Задание 1. Построить иерархии встроенных типов в Python "
   ]
  },
  {
   "cell_type": "markdown",
   "id": "2688d5c1-85f3-4137-9012-adf611136ef2",
   "metadata": {},
   "source": [
    "Встроенные типы делятся на:"
   ]
  },
  {
   "cell_type": "markdown",
   "id": "fadf0ea5-bb47-4fc7-8bba-941d4b5326b4",
   "metadata": {},
   "source": [
    "1.Числа\n",
    "- Целые числа(`int`),неизменяемые\n",
    "- Числа с плавающей точкой(`float`),неизменяемые\n",
    "- Комплексные числа (`complex`),неизменяемые\n",
    "- Булевый тип (`bool`) - наследуюется от int, неизменяемые"
   ]
  },
  {
   "cell_type": "markdown",
   "id": "dd729593-54d7-4157-8cac-c455d2c12e35",
   "metadata": {},
   "source": [
    "2.Коллекции \n",
    "- Последовательности:\n",
    "- строки(`str`),неупорядоченные,неизменяемые.\n",
    "- списки (`list`),упорядоченные,изменяемые\n",
    "- кортеджи(`tuple`),упорядоченные,изменяемые\n",
    "- Отображения:\n",
    "- словари(`dict`),неупорядоченные,изменяемые\n",
    "- Множества:\n",
    "- множества(`set`),неупорядоченные,изменяемые \n"
   ]
  },
  {
   "cell_type": "markdown",
   "id": "cd352cff-0fcb-416d-86af-b3bd62ed9086",
   "metadata": {},
   "source": [
    "Пример литералов для создания обьекта:\n",
    "- `42`- для `int`\n",
    "- `3.14`-для `flot`\n",
    "- `1 + 1j`-для `complex`\n",
    "- `True`,`False`-для `bool`\n",
    "- `\"Hello\"`-для `str`\n",
    "- `[1,2,3]`-для `list`\n",
    "- `(1,2,3)- для `typle`\n",
    "- `{'a': 1, 'b' : 2}`- для `dict`\n",
    "-  `{1,2,3}`-для `set`"
   ]
  },
  {
   "cell_type": "markdown",
   "id": "3e01a640-393f-4b46-a279-711791d0a97d",
   "metadata": {},
   "source": [
    "## Задание 2"
   ]
  },
  {
   "cell_type": "markdown",
   "id": "3357e6d6-8d63-4e1c-889d-e2769c776b25",
   "metadata": {},
   "source": [
    "## Задание 2.1 \n"
   ]
  },
  {
   "cell_type": "markdown",
   "id": "39b075eb-73da-45ae-8eaf-45bf6b66ab88",
   "metadata": {},
   "source": [
    "### Тема 2. Объект как фундаментальное понятие в Python.\n",
    "### Встроенные типы объектов: "
   ]
  },
  {
   "cell_type": "markdown",
   "id": "aae2cde6-e661-4f92-a14c-cb713e86ade0",
   "metadata": {},
   "source": [
    "- 2.1 Понятие объекта.Арбитуры.Методы.Встроенные типы объектов\n",
    "- 2.2 Встроенные типы объектов ,представляющих числа\n",
    "- 2.3 Встроенные типы последовательностей:str,list,tuple\n",
    "- 2.4 Встроенный тип отображения:dict\n",
    "- 2.5 Встроенный тип множества:set\n",
    "- 2.6 Встроенный булевой тип\n",
    "- 2.7 Изменяемые и неизменяемые встроенные типы объектов\n",
    "- 2.8 Интерфейс объекта:операции и методы\n",
    "- 2.9 Переменная\n",
    "- 2.10 Выражение спискового включения\n",
    "- 2.11 Форматированный вывод строк\n",
    "- 2.12 Файловый объект "
   ]
  },
  {
   "cell_type": "markdown",
   "id": "bf0800cd-86b5-43e2-a764-401d338c6217",
   "metadata": {},
   "source": [
    "## Задание 2.2"
   ]
  },
  {
   "cell_type": "markdown",
   "id": "7bb7d583-eb4b-45d1-9696-c91d12714b3a",
   "metadata": {},
   "source": [
    "#### 2.2 Встроенные типы объектов ,представляющие числа"
   ]
  },
  {
   "cell_type": "code",
   "execution_count": 3,
   "id": "9e734bad-ec37-48a7-b887-445b73984ad5",
   "metadata": {},
   "outputs": [
    {
     "name": "stdout",
     "output_type": "stream",
     "text": [
      "0.1 0.2\n",
      "0.3 0.02 0.5\n"
     ]
    }
   ],
   "source": [
    "import decimal \n",
    "a = decimal.Decimal('0.1')\n",
    "b = decimal.Decimal('0.2')\n",
    "sum = a + b \n",
    "multi = a * b \n",
    "division = a / b\n",
    "print(a,b)\n",
    "print(sum,multi,division)"
   ]
  },
  {
   "cell_type": "code",
   "execution_count": 6,
   "id": "2ff149d4-ed10-4385-a2d8-6a5b731cffb6",
   "metadata": {},
   "outputs": [
    {
     "name": "stdout",
     "output_type": "stream",
     "text": [
      "1/2 2/3\n",
      "7/6 1/3 3/4\n"
     ]
    }
   ],
   "source": [
    "from fractions import Fraction \n",
    "x = Fraction (1,2)\n",
    "y = Fraction (2,3)\n",
    "sum = x + y\n",
    "multi = x * y\n",
    "division = x / y\n",
    "print(x,y)\n",
    "print(sum,multi,division)"
   ]
  },
  {
   "cell_type": "markdown",
   "id": "3e04dab4-c7cb-4178-8a6d-b1a606a48333",
   "metadata": {},
   "source": [
    "## 2.3. Встроенные типы последовательностей: str,list, tuple "
   ]
  },
  {
   "cell_type": "code",
   "execution_count": 7,
   "id": "7b4a231b-4f50-4e36-ba6b-f877938b49d3",
   "metadata": {},
   "outputs": [
    {
     "name": "stdout",
     "output_type": "stream",
     "text": [
      "spam\n",
      "s1am\n"
     ]
    }
   ],
   "source": [
    "S = 'spam'\n",
    "print(S)\n",
    "S = S[:1] + '1' + S[2:]\n",
    "print(S)"
   ]
  },
  {
   "cell_type": "markdown",
   "id": "e78a3bec-5c70-4fa5-9b25-155e1f19573c",
   "metadata": {},
   "source": [
    "S[:1] — срез строки, позволяющий извлечь все символы от начала строки S до индекса 1 (не включая символ на этом индексе). Например, если S = 'spam', то результат S[:1] будет 's'.\n",
    "\n",
    "'l' — конкатенация строк, при которой в исходную строку добавляется новый символ 'l'.\n",
    "\n",
    "S[2:] — срез, который выбирает все символы строки S, начиная с позиции 2 и до конца. Для строки 'spam' выполнение S[2:] даст 'am'.\n",
    "\n",
    "Можно ли выполнить эту операцию, используя только индексацию и конкатенацию? Нет, это невозможно. В Python строки являются неизменяемыми (immutable), поэтому изменение конкретного символа путем присваивания по индексу не поддерживается. Строки нельзя изменить напрямую, ведь они остаются неизменными в ходе выполнения программы."
   ]
  },
  {
   "cell_type": "markdown",
   "id": "290b1022-57b5-4b79-96d5-91a7496c0c49",
   "metadata": {},
   "source": [
    "Для списка (`list`):"
   ]
  },
  {
   "cell_type": "code",
   "execution_count": 9,
   "id": "1d3c71ba-8f82-4620-adc2-c30daab73bc9",
   "metadata": {},
   "outputs": [
    {
     "name": "stdout",
     "output_type": "stream",
     "text": [
      "['s', '1', 'a', 'm']\n"
     ]
    }
   ],
   "source": [
    "L = ['s','p','a','m']\n",
    "L[1] = '1'\n",
    "print(L)"
   ]
  },
  {
   "cell_type": "markdown",
   "id": "2fb10b07-0113-4e01-97b9-38b7c7795dda",
   "metadata": {},
   "source": [
    "Для кортежа `(tuple)`"
   ]
  },
  {
   "cell_type": "code",
   "execution_count": 10,
   "id": "da5f5248-1a4e-48fc-af3a-3514fb8c1866",
   "metadata": {},
   "outputs": [
    {
     "name": "stdout",
     "output_type": "stream",
     "text": [
      "('s', '1', 'a', 'm')\n"
     ]
    }
   ],
   "source": [
    "T = ('s','p','a','m')\n",
    "T = T[:1] + ('1',) + T[2:]\n",
    "print(T)"
   ]
  },
  {
   "cell_type": "markdown",
   "id": "845b32fb-268a-4e0b-a7f3-1e7e63526d98",
   "metadata": {},
   "source": [
    "## 2.4 Встроенный тип отображения:dict"
   ]
  },
  {
   "cell_type": "code",
   "execution_count": 15,
   "id": "e85b4af4-7a88-4ace-997b-4dff356a241d",
   "metadata": {},
   "outputs": [
    {
     "name": "stdout",
     "output_type": "stream",
     "text": [
      "Мария 18 belous_masha@internet.ru\n"
     ]
    }
   ],
   "source": [
    "privathayainfimaziya = {\n",
    "    \"Имя\": \"Мария\",\n",
    "    \"Фамилия\": \"Белоус\",\n",
    "    \"Отчество\": \"Руслановна\",\n",
    "    \"Возраст\": 18,\n",
    "    \"Место работы\": \"BSU\",\n",
    "    \"Адрес\": \"Минск,Беларусь\",\n",
    "    \"email\":\"belous_masha@internet.ru\",\n",
    "    \"Телефон\": \"+375444908322\"\n",
    "}\n",
    "name = privathayainfimaziya[\"Имя\"]\n",
    "age = privathayainfimaziya[\"Возраст\"]\n",
    "email = privathayainfimaziya[\"email\"]\n",
    "print(name , age , email)"
   ]
  },
  {
   "cell_type": "markdown",
   "id": "e8122de9-9e24-4d83-b16f-ac62eb248aab",
   "metadata": {},
   "source": [
    "тот же словарь будет более удобен, так как:\n",
    "\n",
    "- Легко получать доступ к значениям по ключам.\n",
    "\n",
    "- Удобно добавлять и изменять данные.\n",
    "\n",
    "- Понятная структура данных.\n",
    "\n",
    "a tuple менее приятен, т.к. к примеру требуют больше усилий для доступа к значениям по индексу."
   ]
  },
  {
   "cell_type": "markdown",
   "id": "fa4a872c-7983-45a7-9c1a-c6514072d853",
   "metadata": {},
   "source": [
    "## 2.5 Встроенный тип множества: set"
   ]
  },
  {
   "cell_type": "code",
   "execution_count": 19,
   "id": "ae154f0d-1912-4e1f-b3ec-237cc7f7aa30",
   "metadata": {},
   "outputs": [
    {
     "name": "stdout",
     "output_type": "stream",
     "text": [
      "sssuunnset\n",
      "setnu\n"
     ]
    }
   ],
   "source": [
    "sunsset = \"sssuunnset\"\n",
    "sunset = set(sunsset)\n",
    "riseagain = ''.join(sunset)\n",
    "print(sunsset)\n",
    "print(riseagain)"
   ]
  },
  {
   "cell_type": "markdown",
   "id": "104e5ffb-4943-44fd-8fc0-d3465939d555",
   "metadata": {},
   "source": [
    "получилость `setnu`,а должно было быть `sunet`,видимо,порядок теряется"
   ]
  },
  {
   "cell_type": "markdown",
   "id": "31ebaf8f-1186-4d2f-8661-f73b70853afc",
   "metadata": {},
   "source": [
    "### 2.8 Интерфейс объекта:операции и методы"
   ]
  },
  {
   "cell_type": "markdown",
   "id": "aafec221-bb07-4794-be58-ea046f69aabd",
   "metadata": {},
   "source": [
    "### 2.8.1"
   ]
  },
  {
   "cell_type": "code",
   "execution_count": 2,
   "id": "da258ae7-2e31-44f6-9125-af79c1dab693",
   "metadata": {},
   "outputs": [
    {
     "name": "stdout",
     "output_type": "stream",
     "text": [
      "2 4\n"
     ]
    }
   ],
   "source": [
    "s = \"Hello world\"\n",
    "scount = s.count('o')\n",
    "sindex = s.index('o')\n",
    "print(scount,sindex)"
   ]
  },
  {
   "cell_type": "code",
   "execution_count": 3,
   "id": "cc120f9f-896a-41eb-8ecb-880996c5db9d",
   "metadata": {},
   "outputs": [
    {
     "name": "stdout",
     "output_type": "stream",
     "text": [
      "2 1\n"
     ]
    }
   ],
   "source": [
    "lst = [1,2,3,2,1]\n",
    "lcount = lst.count(2)\n",
    "lindex = lst.index(2)\n",
    "print(lcount,lindex)\n"
   ]
  },
  {
   "cell_type": "code",
   "execution_count": 4,
   "id": "8eddb0a8-49af-4c24-bf20-c87aec92c2dc",
   "metadata": {},
   "outputs": [
    {
     "name": "stdout",
     "output_type": "stream",
     "text": [
      "2 1\n"
     ]
    }
   ],
   "source": [
    "tpl = (1,2,3,2,1)\n",
    "tcount = tpl.count(2)\n",
    "tindex = tpl.index(2)\n",
    "print(tcount,tindex)"
   ]
  },
  {
   "cell_type": "markdown",
   "id": "919e2306-05bc-4a6d-9736-452632845f8a",
   "metadata": {},
   "source": [
    "### 2.8.2"
   ]
  },
  {
   "cell_type": "markdown",
   "id": "1e1093d5-a180-4feb-9ebf-0c183f0c2bba",
   "metadata": {},
   "source": [
    "### Пример выражения с тремя строковыми методами"
   ]
  },
  {
   "cell_type": "code",
   "execution_count": 7,
   "id": "1c1096e0-24c9-44d0-b6d9-0c2c92934b71",
   "metadata": {},
   "outputs": [
    {
     "name": "stdout",
     "output_type": "stream",
     "text": [
      "['SOUNDS', 'AWFUL']\n"
     ]
    }
   ],
   "source": [
    "s = \"sounds great\"\n",
    "result = s.upper().replace(\"GREAT\",\"AWFUL\").split()\n",
    "print(result)"
   ]
  },
  {
   "cell_type": "markdown",
   "id": "ebd18f06-f450-49cb-b407-83095af4a293",
   "metadata": {},
   "source": [
    "#### Спецификации "
   ]
  },
  {
   "cell_type": "markdown",
   "id": "cfa4b161-d66e-4339-8a62-317383d4f772",
   "metadata": {},
   "source": [
    "- `upper`:Преобразует все буквы строки в верхний регистр\n",
    "- `replace`: Заменяет все вхождения подстроки на новые\n",
    "- `split`: Разбивает строку на список подстрок по заданному разделителю "
   ]
  },
  {
   "cell_type": "markdown",
   "id": "f1533b2e-f4da-49e9-821d-04058148a3f7",
   "metadata": {},
   "source": [
    "### 2.8.3"
   ]
  },
  {
   "cell_type": "code",
   "execution_count": 10,
   "id": "210ff6d8-f0e2-4a45-a5fa-6482cf5bed16",
   "metadata": {},
   "outputs": [
    {
     "name": "stdout",
     "output_type": "stream",
     "text": [
      "[1, 3, 3, 4]\n"
     ]
    }
   ],
   "source": [
    "lst = [1,3,3]\n",
    "lst.append(4)\n",
    "print(lst)"
   ]
  },
  {
   "cell_type": "code",
   "execution_count": 11,
   "id": "f0df76f9-42af-4a5b-aa32-629e0c4a928a",
   "metadata": {},
   "outputs": [
    {
     "name": "stdout",
     "output_type": "stream",
     "text": [
      "[1, 2, 3, 4, 5, 'g']\n"
     ]
    }
   ],
   "source": [
    "lst = [1,2,3]\n",
    "lst.extend([4,5, 'g'])\n",
    "print(lst)"
   ]
  },
  {
   "cell_type": "code",
   "execution_count": 12,
   "id": "e5f804b5-413a-44f6-a96b-25a3466cafbe",
   "metadata": {},
   "outputs": [
    {
     "name": "stdout",
     "output_type": "stream",
     "text": [
      "[1, 5000, 2, 3]\n"
     ]
    }
   ],
   "source": [
    "lst = [1,2,3]\n",
    "lst.insert(1,5000)\n",
    "print(lst)"
   ]
  },
  {
   "cell_type": "markdown",
   "id": "44d98913-b19e-4e20-98a6-7b34cfd815e0",
   "metadata": {},
   "source": [
    "### 2.8.4"
   ]
  },
  {
   "cell_type": "markdown",
   "id": "e5a592c2-c99c-4d1e-b1cd-65e326c99412",
   "metadata": {},
   "source": [
    "lst = [\"dlin\",\"dlinana\",\"dlina\"]\n",
    "lst.sort(key=len) # по длине\n",
    "print(lst)"
   ]
  },
  {
   "cell_type": "markdown",
   "id": "7922ffb5-80be-4cbb-84d8-fe7e0b968b8a",
   "metadata": {},
   "source": [
    "### 2.8.5"
   ]
  },
  {
   "cell_type": "code",
   "execution_count": 19,
   "id": "ae01a82c-b4fd-440a-bb5b-d15034060083",
   "metadata": {},
   "outputs": [
    {
     "name": "stdout",
     "output_type": "stream",
     "text": [
      "{0: '-7', 1: '-7', 2: '-7', 3: '-7', 4: '-7', 5: '-7', 6: '-7', 7: '-7', 8: '-7', 9: '-7', 10: '-7', 11: '-7', 12: '-7', 13: '-7', 14: '-7', 15: '-7', 16: '-7', 17: '-7', 18: '-7', 19: '-7', 20: '-7', 21: '-7', 22: '-7', 23: '-7', 24: '-7', 25: '-7', 26: '-7', 27: '-7', 28: '-7', 29: '-7', 30: '-7', 31: '-7', 32: '-7', 33: '-7', 34: '-7', 35: '-7', 36: '-7', 37: '-7', 38: '-7', 39: '-7', 40: '-7', 41: '-7', 42: '-7', 43: '-7', 44: '-7', 45: '-7', 46: '-7', 47: '-7', 48: '-7', 49: '-7', 50: '-7', 51: '-7', 52: '-7', 53: '-7', 54: '-7', 55: '-7', 56: '-7', 57: '-7', 58: '-7', 59: '-7', 60: '-7', 61: '-7', 62: '-7', 63: '-7', 64: '-7', 65: '-7', 66: '-7', 67: '-7', 68: '-7', 69: '-7', 70: '-7', 71: '-7', 72: '-7', 73: '-7', 74: '-7', 75: '-7', 76: '-7', 77: '-7', 78: '-7', 79: '-7', 80: '-7', 81: '-7', 82: '-7', 83: '-7', 84: '-7', 85: '-7', 86: '-7', 87: '-7', 88: '-7', 89: '-7', 90: '-7', 91: '-7', 92: '-7', 93: '-7', 94: '-7', 95: '-7', 96: '-7', 97: '-7', 98: '-7', 99: '-7'}\n"
     ]
    }
   ],
   "source": [
    "d = {i: \"-7\" for i in range(100)}\n",
    "print(d)"
   ]
  },
  {
   "cell_type": "code",
   "execution_count": 21,
   "id": "2c25e6c4-830a-40df-ab35-a056f65ca1a2",
   "metadata": {},
   "outputs": [
    {
     "name": "stdout",
     "output_type": "stream",
     "text": [
      "[1, 2, 3, [...]]\n"
     ]
    }
   ],
   "source": [
    "a = [1,2,3]\n",
    "a.append(a)\n",
    "print(a)"
   ]
  },
  {
   "cell_type": "code",
   "execution_count": 22,
   "id": "91045461-3db8-49ac-a603-b24dddf8cced",
   "metadata": {},
   "outputs": [
    {
     "name": "stdout",
     "output_type": "stream",
     "text": [
      "{'od': 'tr', 'uf': {...}}\n"
     ]
    }
   ],
   "source": [
    "slovar = {'od': 'tr'}\n",
    "slovar['uf'] = slovar\n",
    "print(slovar) #Output: {'key': 'value','self':{...}}"
   ]
  },
  {
   "cell_type": "code",
   "execution_count": 23,
   "id": "c23885a6-6719-47b5-951b-0f79b215b746",
   "metadata": {},
   "outputs": [
    {
     "name": "stdout",
     "output_type": "stream",
     "text": [
      "[13] [13] [13] [13]\n"
     ]
    }
   ],
   "source": [
    "obj = [13]\n",
    "a = b = c = d = obj\n",
    "print(a,b,c,d)"
   ]
  },
  {
   "cell_type": "markdown",
   "id": "8a3664b1-ce50-4e52-b0b3-73c08f885574",
   "metadata": {},
   "source": [
    "### Три различных способа копирования списка."
   ]
  },
  {
   "cell_type": "code",
   "execution_count": 24,
   "id": "bc85ef8e-db72-40c2-9ebb-82c441b9b6e5",
   "metadata": {},
   "outputs": [
    {
     "name": "stdout",
     "output_type": "stream",
     "text": [
      "[1, 2, 3]\n"
     ]
    }
   ],
   "source": [
    "origin = [1,2,3]\n",
    "copy = list(origin)\n",
    "print(copy)"
   ]
  },
  {
   "cell_type": "code",
   "execution_count": 25,
   "id": "23618443-8671-4be8-899b-410beb1f2984",
   "metadata": {},
   "outputs": [
    {
     "name": "stdout",
     "output_type": "stream",
     "text": [
      "[1, 2, 3]\n"
     ]
    }
   ],
   "source": [
    "origin = [1,2,3]\n",
    "copy = origin.copy()\n",
    "print(copy)"
   ]
  },
  {
   "cell_type": "code",
   "execution_count": 26,
   "id": "0a032303-40bc-4a54-ab87-304588141613",
   "metadata": {},
   "outputs": [
    {
     "name": "stdout",
     "output_type": "stream",
     "text": [
      "[1, 2, 3]\n"
     ]
    }
   ],
   "source": [
    "origin = [1,2,3]\n",
    "copy = origin \n",
    "print(copy)"
   ]
  },
  {
   "cell_type": "markdown",
   "id": "a52716bd-c78c-4e4f-ab07-844abb052b41",
   "metadata": {},
   "source": [
    "### 2.10 Выражение спискового включения "
   ]
  },
  {
   "cell_type": "code",
   "execution_count": 27,
   "id": "697c3e2d-ff22-4eae-85f3-2ed9e9822919",
   "metadata": {},
   "outputs": [
    {
     "name": "stdout",
     "output_type": "stream",
     "text": [
      "{1, 3, 5, 7, 9}\n"
     ]
    }
   ],
   "source": [
    "nechet = {x for x in range(10) if x % 2 == 1}\n",
    "print(nechet)"
   ]
  },
  {
   "cell_type": "code",
   "execution_count": 29,
   "id": "d6aa5fa6-b0b5-4c92-8c5e-89ac61e87ddd",
   "metadata": {},
   "outputs": [
    {
     "name": "stdout",
     "output_type": "stream",
     "text": [
      "[0, 1, 2, 3, 4, 5, 6, 7]\n",
      "[1, 2, 3, 4, 5, 6, 7, 8]\n",
      "[2, 3, 4, 5, 6, 7, 8, 9]\n",
      "[3, 4, 5, 6, 7, 8, 9, 10]\n",
      "[4, 5, 6, 7, 8, 9, 10, 11]\n",
      "[5, 6, 7, 8, 9, 10, 11, 12]\n",
      "[6, 7, 8, 9, 10, 11, 12, 13]\n"
     ]
    }
   ],
   "source": [
    "matrix = [[ i + j for j in range(8)] for i in range(7)]\n",
    "for row in matrix:\n",
    "   print(row)"
   ]
  },
  {
   "cell_type": "code",
   "execution_count": 30,
   "id": "f1da7fb9-a28f-41c8-9dab-4743f03011c4",
   "metadata": {},
   "outputs": [
    {
     "name": "stdout",
     "output_type": "stream",
     "text": [
      "[[ 0  1  2  3  4  5  6  7]\n",
      " [ 8  9 10 11 12 13 14 15]\n",
      " [16 17 18 19 20 21 22 23]\n",
      " [24 25 26 27 28 29 30 31]\n",
      " [32 33 34 35 36 37 38 39]\n",
      " [40 41 42 43 44 45 46 47]\n",
      " [48 49 50 51 52 53 54 55]]\n"
     ]
    }
   ],
   "source": [
    "import numpy as np\n",
    "matrix = np.arange(56).reshape(7,8)\n",
    "print(matrix)"
   ]
  },
  {
   "cell_type": "code",
   "execution_count": 31,
   "id": "df55d48a-c604-401a-87a2-90eef9025c79",
   "metadata": {},
   "outputs": [
    {
     "name": "stdout",
     "output_type": "stream",
     "text": [
      "{0: {'a': 0}, 1: {'a': 1}, 2: {'a': 4}, 3: {'a': 9}}\n"
     ]
    }
   ],
   "source": [
    "slojnidict = {i:{'a':i ** 2} for i in range(4)}\n",
    "print(slojnidict)"
   ]
  },
  {
   "cell_type": "markdown",
   "id": "6f35d4c3-a494-4e96-9ce8-d0d6b54d9223",
   "metadata": {},
   "source": [
    "### 2.11 Форматированный вывод строк"
   ]
  },
  {
   "cell_type": "code",
   "execution_count": 34,
   "id": "0e8b8c5d-3c1b-4c15-9a73-359d74005a89",
   "metadata": {},
   "outputs": [
    {
     "name": "stdout",
     "output_type": "stream",
     "text": [
      "variable = 52\n"
     ]
    }
   ],
   "source": [
    "variable = 52\n",
    "fstring = f'{variable =:3}'\n",
    "print(fstring)"
   ]
  },
  {
   "cell_type": "code",
   "execution_count": 35,
   "id": "28c4280b-4ee0-4c23-8be8-59dd596f79d2",
   "metadata": {},
   "outputs": [
    {
     "name": "stdout",
     "output_type": "stream",
     "text": [
      "variable =  52\n"
     ]
    }
   ],
   "source": [
    "variable = 52\n",
    "f1string = 'variable = %3d' % variable\n",
    "print(f1string)"
   ]
  },
  {
   "cell_type": "code",
   "execution_count": 36,
   "id": "34ae919c-1dd9-45c5-959f-4226371a5f5d",
   "metadata": {},
   "outputs": [
    {
     "name": "stdout",
     "output_type": "stream",
     "text": [
      "variable =  52\n"
     ]
    }
   ],
   "source": [
    "variable = 52\n",
    "f2string = 'variable = {:3}'.format(variable)\n",
    "print(f2string)"
   ]
  },
  {
   "cell_type": "code",
   "execution_count": 37,
   "id": "366b96c8-25a3-4f22-94bf-17ad61031d2d",
   "metadata": {},
   "outputs": [
    {
     "name": "stdout",
     "output_type": "stream",
     "text": [
      "expression=104\n"
     ]
    }
   ],
   "source": [
    "expression = 52 * 2\n",
    "estring = f'{expression=:.0f}'\n",
    "print(estring)"
   ]
  },
  {
   "cell_type": "code",
   "execution_count": 39,
   "id": "ab14e7e6-3973-47c1-b0fc-eb0cc4a5cab5",
   "metadata": {},
   "outputs": [
    {
     "name": "stdout",
     "output_type": "stream",
     "text": [
      "expression=104.0\n"
     ]
    }
   ],
   "source": [
    "expression = 52 * 2 \n",
    "e1string = 'expression=%.1f' % expression\n",
    "print(e1string)"
   ]
  },
  {
   "cell_type": "code",
   "execution_count": 40,
   "id": "28cae934-8493-4b7f-b140-2cbffa5b5a20",
   "metadata": {},
   "outputs": [
    {
     "name": "stdout",
     "output_type": "stream",
     "text": [
      "expression=104.00\n"
     ]
    }
   ],
   "source": [
    "expression = 52 * 2\n",
    "e2string = 'expression={:.2f}'.format(expression)\n",
    "print(e2string)"
   ]
  },
  {
   "cell_type": "markdown",
   "id": "2b293daa-a061-4817-8629-372df0ecc4c2",
   "metadata": {},
   "source": [
    "### 2.12 Файловый объект "
   ]
  },
  {
   "cell_type": "code",
   "execution_count": 2,
   "id": "ad5d7354-7d85-49be-911e-b8d082aa1522",
   "metadata": {},
   "outputs": [
    {
     "name": "stdout",
     "output_type": "stream",
     "text": [
      "Содержимое файла:\n",
      " 1\n",
      "2\n",
      "3\n",
      "4\n",
      "5\n",
      "\n",
      "Первая строка: 1\n",
      "Список строк: ['1\\n', '2\\n', '3\\n', '4\\n', '5\\n']\n",
      "Последнее чтение: 1\n",
      "2\n",
      "3\n",
      "4\n",
      "5\n",
      "\n"
     ]
    }
   ],
   "source": [
    "#1. Запись списка чисел в файл\n",
    "with open(\"numbers.txt\", \"w\") as file:\n",
    "    file.writelines([f\"{i}\\n\" for i in range(1, 6)])  # Записываем числа от 1 до 5\n",
    "\n",
    "# 2. Чтение всего файла\n",
    "with open(\"numbers.txt\", \"r\") as file:\n",
    "    content = file.read()\n",
    "    print(\"Содержимое файла:\\n\", content)\n",
    "\n",
    "# 3. Чтение первой строки\n",
    "with open(\"numbers.txt\", \"r\") as file:\n",
    "    first_line = file.readline()\n",
    "    print(\"Первая строка:\", first_line.strip())\n",
    "\n",
    "# 4. Чтение всех строк в список\n",
    "with open(\"numbers.txt\", \"r\") as file:\n",
    "    lines = file.readlines()\n",
    "    print(\"Список строк:\", lines)\n",
    "\n",
    "# 5. Явное закрытие файла\n",
    "file = open(\"numbers.txt\", \"r\")\n",
    "print(\"Последнее чтение:\", file.read())\n",
    "file.close()  # Закрываем файл явно\n"
   ]
  },
  {
   "cell_type": "markdown",
   "id": "1b62c659-ed54-47a7-b0d3-286baec29188",
   "metadata": {},
   "source": [
    "## Задание 2.3 "
   ]
  },
  {
   "cell_type": "markdown",
   "id": "13758db7-5b39-473e-98eb-90908d975441",
   "metadata": {},
   "source": [
    "## Фрагмент 1"
   ]
  },
  {
   "cell_type": "markdown",
   "id": "e5167d4a-995f-4fac-a612-feb486ab0ebc",
   "metadata": {},
   "source": [
    "` print ('\\c \\xc6 `)"
   ]
  },
  {
   "cell_type": "markdown",
   "id": "55807117-b747-48d5-b634-04afe9aca1bc",
   "metadata": {},
   "source": [
    "Ошибка возникает из-за \\c, которая не является правильной escape-последовательностью. Python не знает, что с ней делать, поэтому выдает предупреждение."
   ]
  },
  {
   "cell_type": "markdown",
   "id": "7e142ebe-01bd-40cc-9e6f-a90c148fdf33",
   "metadata": {},
   "source": [
    "## Фрагмент 2"
   ]
  },
  {
   "cell_type": "markdown",
   "id": "ebfd6264-7277-4f0d-8bcd-e259c2f776b4",
   "metadata": {},
   "source": [
    "` str1[10]`"
   ]
  },
  {
   "cell_type": "markdown",
   "id": "51da46f9-a691-418a-8695-68ef1e58ef6b",
   "metadata": {},
   "source": [
    "Ошибка IndexError возникает, потому что индекс 10 выходит за пределы длины строки str1. В Python индексы начинаются с 0, и если строка короче 11 символов, этот индекс недоступен."
   ]
  },
  {
   "cell_type": "markdown",
   "id": "11abbbd1-6035-432f-a971-dea3ba600e4d",
   "metadata": {},
   "source": [
    "## Фрагмент 3"
   ]
  },
  {
   "cell_type": "markdown",
   "id": "4942b5ad-b620-4ed4-8bcb-1ef16a6bb5db",
   "metadata": {},
   "source": [
    "`[1] + '1'`"
   ]
  },
  {
   "cell_type": "markdown",
   "id": "ea76ab14-11c7-44e8-9e1e-69c060abc0b1",
   "metadata": {},
   "source": [
    "Ошибка TypeError возникает, потому что в Python нельзя объединять список и строку напрямую."
   ]
  },
  {
   "cell_type": "markdown",
   "id": "a9452540-a667-46d9-bd75-8c349b7090ca",
   "metadata": {},
   "source": [
    "## Фрагмент 4"
   ]
  },
  {
   "cell_type": "markdown",
   "id": "228e1f01-57cf-4d3d-a8ba-ff5bb78ed951",
   "metadata": {},
   "source": [
    "` dict1 ['two']`"
   ]
  },
  {
   "cell_type": "markdown",
   "id": "057f12cd-863b-404c-9eed-d23bbfabb247",
   "metadata": {},
   "source": [
    "Ошибка KeyError возникает, потому что ключ 'two' отсутствует в словаре dict1."
   ]
  },
  {
   "cell_type": "markdown",
   "id": "4b635fd7-1695-49fa-b633-005685f9d79d",
   "metadata": {},
   "source": [
    "## Фрагмент 5"
   ]
  },
  {
   "cell_type": "markdown",
   "id": "c37ce900-3484-459a-8585-251716e784c4",
   "metadata": {},
   "source": [
    "`t = [1,2], {1:2}, {1,2}; t[0] = 0`"
   ]
  },
  {
   "cell_type": "markdown",
   "id": "81f62a05-66c9-4375-bcb0-dd89b930e9a4",
   "metadata": {},
   "source": [
    "Ошибка TypeError возникает, потому что t является кортежем, а кортежи в Python неизменяемы."
   ]
  },
  {
   "cell_type": "markdown",
   "id": "ada84c66-f588-472e-8add-9df8abf66f21",
   "metadata": {},
   "source": [
    "## Фрагмент 6"
   ]
  },
  {
   "cell_type": "markdown",
   "id": "57010d30-797d-4122-b3d2-ab2b3d73cacf",
   "metadata": {},
   "source": [
    "` {1, 'str',(1,)}.add([1]) `"
   ]
  },
  {
   "cell_type": "markdown",
   "id": "7df35199-1a3e-49a9-b860-83ae9de2cc37",
   "metadata": {},
   "source": [
    "Ошибка TypeError возникает, потому что нельзя добавлять список [1] в множество."
   ]
  },
  {
   "cell_type": "markdown",
   "id": "91213451-3bc6-4c83-96c4-76f26b466b38",
   "metadata": {},
   "source": [
    "## Фрагмент 7"
   ]
  },
  {
   "cell_type": "markdown",
   "id": "2ccce64e-6524-40c9-b0b7-af3efefafdfb",
   "metadata": {},
   "source": [
    "` print(dict1.get('one'), dict1.get('three')) `\n",
    "\n",
    "`dict1['three']`"
   ]
  },
  {
   "cell_type": "markdown",
   "id": "96ce47f6-50bf-4f98-904d-e3aa9d2172e5",
   "metadata": {},
   "source": [
    "Ошибка KeyError возникает, потому что вы пытаетесь получить значение по ключу 'three', который отсутствует в словаре dict1. Метод .get() возвращает None, если ключ не найден, но доступ к несуществующему ключу с помощью dict1['three'] вызывает ошибку."
   ]
  },
  {
   "cell_type": "markdown",
   "id": "6bd806e0-ce73-4124-b5cb-29b389fbd29e",
   "metadata": {},
   "source": [
    "## Фрагмент 8 \n",
    "`print(s, s.find('-'))`\n",
    "\n",
    "`s.index('-')`\n",
    "\n",
    "Ошибка ValueError возникает, потому что метод index() не находит подстроку '-' в строке s."
   ]
  },
  {
   "cell_type": "markdown",
   "id": "81055c70-fb56-439d-9dec-d65dfcd1d98c",
   "metadata": {},
   "source": [
    "## Фрагмент 9 \n",
    "`a = 1  # создание переменной`\n",
    "\n",
    "`a, d`\n",
    "\n",
    "Ошибка NameError возникает, потому что переменная d не определена.\n",
    "\n",
    "## Фрагмент 10\n",
    "`print(abs(-1))`\n",
    "\n",
    "`abs = 5`\n",
    "\n",
    "`print(abs(-1))`\n",
    "\n",
    "Ошибка TypeError возникает, потому что после присвоения abs = 5, abs больше не ссылается на функцию abs(), а становится целым числом."
   ]
  },
  {
   "cell_type": "markdown",
   "id": "bde8d622-d4c5-4a01-92d1-983df94afb66",
   "metadata": {},
   "source": [
    "# Задание 3. Ответы на контрольные вопросы из книги М. Лутца"
   ]
  },
  {
   "cell_type": "markdown",
   "id": "2a392404-c3e8-452c-8d4c-3f29f68d9f07",
   "metadata": {},
   "source": [
    "# 1. Глава 4, вопрос 6: Что такое \"полиморфизм\" и почему о нем нужно заботиться?"
   ]
  },
  {
   "cell_type": "markdown",
   "id": "1d6cf314-96c6-4cf8-b614-7c8512171c41",
   "metadata": {},
   "source": [
    "Полиморфизм означает, что смысл операции (например, +) зависит от объектов, к которым она применяется. Это позволяет использовать один и тот же оператор для различных типов данных, что делает код более гибким и универсальным.\n",
    "\n",
    "Примеры:\n",
    "\n",
    "1.Сложение чисел"
   ]
  },
  {
   "cell_type": "code",
   "execution_count": 8,
   "id": "32810ad4-c555-477a-ae05-245c21e89bf6",
   "metadata": {},
   "outputs": [
    {
     "name": "stdout",
     "output_type": "stream",
     "text": [
      "100\n"
     ]
    }
   ],
   "source": [
    "a3 = 1\n",
    "b3 = 99\n",
    "result = a3 + b3\n",
    "print(result)"
   ]
  },
  {
   "cell_type": "markdown",
   "id": "dc36647b-a6e7-4b32-981d-ffe4bb491b1d",
   "metadata": {},
   "source": [
    "2. Сложение строк"
   ]
  },
  {
   "cell_type": "code",
   "execution_count": 9,
   "id": "13865741-1653-4237-ae66-f1e1e640b053",
   "metadata": {},
   "outputs": [
    {
     "name": "stdout",
     "output_type": "stream",
     "text": [
      "Wit beyond measure is a man’s greatest treasure.\n"
     ]
    }
   ],
   "source": [
    "str5 = \"Wit beyond measure \"\n",
    "str6 = \"is a man’s greatest treasure.\"\n",
    "result = str5 + str6\n",
    "print(result)"
   ]
  },
  {
   "cell_type": "markdown",
   "id": "5409e6a8-7644-449c-8afe-aab65193d7fa",
   "metadata": {},
   "source": [
    "3.Сложение списков"
   ]
  },
  {
   "cell_type": "code",
   "execution_count": 10,
   "id": "2d1edf2f-4420-42be-9a42-4e8c5a71a16e",
   "metadata": {},
   "outputs": [
    {
     "name": "stdout",
     "output_type": "stream",
     "text": [
      "[1, 2, 3, 4, 5, 6]\n"
     ]
    }
   ],
   "source": [
    "list01 = [1, 2, 3]\n",
    "list02 = [4, 5, 6]\n",
    "result01 = list01 + list02\n",
    "print(result01)"
   ]
  },
  {
   "cell_type": "markdown",
   "id": "efbafe79-bc02-49e3-9b20-add6b892594b",
   "metadata": {},
   "source": [
    "# 2. Глава 5, вопрос 7: Как можно преобразовывать целое число в число с плавающей точкой?"
   ]
  },
  {
   "cell_type": "markdown",
   "id": "33439a52-1af0-4512-a24b-c465ed9bc4c5",
   "metadata": {},
   "source": [
    "Для преобразования целого числа в число с плавающей точкой в Python можно использовать функцию float(). Также смешивание целых чисел и чисел с плавающей точкой в выражениях приводит к автоматическому преобразованию целых чисел в числа с плавающей точкой. Кроме того, операция деления (/) в Python 3 всегда возвращает число с плавающей точкой, даже если оба операнда являются целыми.\n",
    "\n",
    "Примеры:\n",
    "\n",
    "1.Использование функции float()\n"
   ]
  },
  {
   "cell_type": "code",
   "execution_count": 11,
   "id": "92d27667-b8ae-4ea4-a66e-5935bdc6f10e",
   "metadata": {},
   "outputs": [
    {
     "name": "stdout",
     "output_type": "stream",
     "text": [
      "8.0\n"
     ]
    }
   ],
   "source": [
    "integer_val01 = 8\n",
    "float_val01 = float(integer_val01)\n",
    "print(float_val01)"
   ]
  },
  {
   "cell_type": "markdown",
   "id": "1f4bcb8c-62e7-49de-aa9d-19faaccf9b0b",
   "metadata": {},
   "source": [
    "2.Смешивание типов в выражении"
   ]
  },
  {
   "cell_type": "code",
   "execution_count": 15,
   "id": "240cc633-33f7-4d53-8f9b-0dc33b5729c9",
   "metadata": {},
   "outputs": [
    {
     "name": "stdout",
     "output_type": "stream",
     "text": [
      "10.99\n"
     ]
    }
   ],
   "source": [
    "\n",
    "a4 = 8\n",
    "b4 = 2.99\n",
    "result04 = a4 + b4\n",
    "print(result04)"
   ]
  },
  {
   "cell_type": "markdown",
   "id": "7cad771c-6afd-490d-9cfe-c6d857c9e03d",
   "metadata": {},
   "source": [
    "3. Опреция деления"
   ]
  },
  {
   "cell_type": "code",
   "execution_count": 16,
   "id": "803cccb6-f019-4ccf-810b-7b57b293c4aa",
   "metadata": {},
   "outputs": [
    {
     "name": "stdout",
     "output_type": "stream",
     "text": [
      "142.85714285714286\n"
     ]
    }
   ],
   "source": [
    "x9 = 1000\n",
    "y9 = 7\n",
    "result = x9 / y9\n",
    "print(result)"
   ]
  },
  {
   "cell_type": "markdown",
   "id": "b2ef8052-a176-48db-8bd8-82553ca8ce3b",
   "metadata": {},
   "source": [
    "Применение float() и автоматическое преобразование типов делает Python гибким в работе с числовыми данными, что упрощает математические вычисления и работу с различными типами данных."
   ]
  },
  {
   "cell_type": "markdown",
   "id": "dc836d8c-cda3-44eb-8bc7-d3ff58f58900",
   "metadata": {},
   "source": [
    "# 3. Глава 6, вопрос 2: Изменяют ли три оператора значение, выводимое для A?"
   ]
  },
  {
   "cell_type": "code",
   "execution_count": 17,
   "id": "75667edf-bac6-4d78-9454-74435bc4c6a2",
   "metadata": {},
   "outputs": [],
   "source": [
    "A = [\"spam\"]\n",
    "B = A\n",
    "B[0] = \"shrubbery\""
   ]
  },
  {
   "cell_type": "markdown",
   "id": "c15c1e18-5d16-42ca-b14d-e9d10dde4078",
   "metadata": {},
   "source": [
    "Да, теперь для A выводится [\"shrubbery\"]. A и B ссылаются на один и тот же список. Когда мы изменяем первый элемент списка через B, это изменение также видно в A, потому что обе переменные указывают на один и тот же объект.\n",
    "\n",
    "Пример:"
   ]
  },
  {
   "cell_type": "code",
   "execution_count": 18,
   "id": "5a9420ca-02b3-4cf8-bffd-fe8b6b10772e",
   "metadata": {},
   "outputs": [
    {
     "name": "stdout",
     "output_type": "stream",
     "text": [
      "['shrubbery']\n",
      "['shrubbery']\n"
     ]
    }
   ],
   "source": [
    "print(B)\n",
    "print(A)"
   ]
  },
  {
   "cell_type": "markdown",
   "id": "f594b158-b0ba-4d64-9a0b-d25d76e7ffc4",
   "metadata": {},
   "source": [
    "Изменение происходит не в самих переменных, а в списке, на который они ссылаются. Поэтому, когда мы изменяем его через B, это видно и в A."
   ]
  },
  {
   "cell_type": "markdown",
   "id": "d9d530f8-633b-497f-9bd9-5bf63634f344",
   "metadata": {},
   "source": [
    "# 4. Глава 7, вопрос 6: Сколько символов в строке \"a\\nb\\x0f\\000d\"?"
   ]
  },
  {
   "cell_type": "markdown",
   "id": "3343400b-9e04-4550-8a5e-4b50922d738d",
   "metadata": {},
   "source": [
    "В строке \"a\\nb\\x0f\\000d\" содержится 6 символов: a, \\n (символ новой строки), b, \\x0f, \\000, d.\n",
    "\n",
    "Пример:"
   ]
  },
  {
   "cell_type": "code",
   "execution_count": 19,
   "id": "ce84206c-866f-4d33-874e-f874848ce3aa",
   "metadata": {},
   "outputs": [
    {
     "name": "stdout",
     "output_type": "stream",
     "text": [
      "Длина строки: 6\n",
      "Символ: a, Код: 97\n",
      "Символ: \n",
      ", Код: 10\n",
      "Символ: b, Код: 98\n",
      "Символ: \u000f, Код: 15\n",
      "Символ: \u0000, Код: 0\n",
      "Символ: d, Код: 100\n"
     ]
    }
   ],
   "source": [
    "string01 = \"a\\nb\\x0f\\000d\"\n",
    "\n",
    "length01 = len(string01)\n",
    "print(\"Длина строки:\", length01)\n",
    "\n",
    "for char in string01:\n",
    "    print(f\"Символ: {char}, Код: {ord(char)}\")"
   ]
  },
  {
   "cell_type": "markdown",
   "id": "3839c587-32c0-4e25-a0cc-bdb0664670a5",
   "metadata": {},
   "source": [
    "Используя функцию len(), мы можем подтвердить, что в строке 6 символов. Функция ord() показывает значения кодов для каждого символа, что позволяет увидеть, как интерпретируются управляющие последовательности."
   ]
  },
  {
   "cell_type": "markdown",
   "id": "e24474f1-549a-409f-9e19-06bfb8bd46b1",
   "metadata": {},
   "source": [
    "# 5. Глава 8, вопрос 3: Назовите четыре операции, которые изменяют списковый объект на месте в Python."
   ]
  },
  {
   "cell_type": "markdown",
   "id": "a5875bc1-1f10-44b1-8fdc-f9f108cb6999",
   "metadata": {},
   "source": [
    "1. append() — добавляет элемент в конец списка:"
   ]
  },
  {
   "cell_type": "code",
   "execution_count": 20,
   "id": "e5e17465-3b44-4af1-ae3c-49c5530e920c",
   "metadata": {},
   "outputs": [
    {
     "name": "stdout",
     "output_type": "stream",
     "text": [
      "[1, 2, 3, 9]\n"
     ]
    }
   ],
   "source": [
    "list08 = [1, 2, 3]\n",
    "list08.append(9)\n",
    "print(list08)"
   ]
  },
  {
   "cell_type": "markdown",
   "id": "c829af64-3024-49f8-9e6c-a0f08fce80dc",
   "metadata": {},
   "source": [
    "2. extend() — добавляет элементы из другого списка в конец текущего списка:"
   ]
  },
  {
   "cell_type": "code",
   "execution_count": 21,
   "id": "a261b191-3fed-45ce-bb78-767b2ea585de",
   "metadata": {},
   "outputs": [
    {
     "name": "stdout",
     "output_type": "stream",
     "text": [
      "[1, 2, 3, 9, 6, 5]\n"
     ]
    }
   ],
   "source": [
    "list08.extend([6, 5])\n",
    "print(list08)"
   ]
  },
  {
   "cell_type": "markdown",
   "id": "30f939cb-edb4-4b63-afa5-21f0b89c6de6",
   "metadata": {},
   "source": [
    "3.sort() — сортирует элементы списка на месте:"
   ]
  },
  {
   "cell_type": "code",
   "execution_count": 22,
   "id": "e3103308-21a2-4ad0-aa4a-d2c60feec52e",
   "metadata": {},
   "outputs": [
    {
     "name": "stdout",
     "output_type": "stream",
     "text": [
      "[1, 2, 3, 5, 6, 9]\n"
     ]
    }
   ],
   "source": [
    "list08.sort()\n",
    "print(list08)"
   ]
  },
  {
   "cell_type": "markdown",
   "id": "5c26868e-60c0-41af-b974-46fd0d49d096",
   "metadata": {},
   "source": [
    "4.reverse() — разворачивает список на месте:"
   ]
  },
  {
   "cell_type": "code",
   "execution_count": 23,
   "id": "49dad701-f2e8-41c1-97b3-a69f03c394ab",
   "metadata": {},
   "outputs": [
    {
     "name": "stdout",
     "output_type": "stream",
     "text": [
      "[9, 6, 5, 3, 2, 1]\n"
     ]
    }
   ],
   "source": [
    "list08.reverse()\n",
    "print(list08)"
   ]
  },
  {
   "cell_type": "markdown",
   "id": "7de628e6-de17-4a9a-9678-0b3331aafef7",
   "metadata": {},
   "source": [
    "Эти методы изменяют сам объект списка, а не создают новый."
   ]
  },
  {
   "cell_type": "markdown",
   "id": "7b3c6426-564f-4439-9388-2183eb1ad7aa",
   "metadata": {},
   "source": [
    "# 6. Глава 9, вопрос 6: Когда в Python объект считается истинным?"
   ]
  },
  {
   "cell_type": "markdown",
   "id": "6161b33a-13dd-4082-8691-fd1e5e9defbe",
   "metadata": {},
   "source": [
    "Объект в Python считается истинным, если он соответствует следующим условиям:\n",
    "\n",
    "- нулевое число: Любое число, кроме 0 (например, 1, -1, 3.14), является истинным.\n",
    "- Непустая коллекция: Это могут быть непустые списки, кортежи, множества, строки или словари (например, [1, 2], 'hello', {1: 'a'}).\n",
    "- Встроенные значения: Значения True и False также являются истинными и ложными соответственно, где True эквивалентно 1, а False эквивалентно 0.\n",
    "Примеры:"
   ]
  },
  {
   "cell_type": "code",
   "execution_count": 25,
   "id": "5903fad5-4d33-4ef7-8a7d-4769d35ed114",
   "metadata": {},
   "outputs": [
    {
     "name": "stdout",
     "output_type": "stream",
     "text": [
      "True\n",
      "True\n",
      "True\n",
      "True\n",
      "True\n",
      "True\n",
      "False\n",
      "False\n",
      "False\n",
      "False\n",
      "False\n",
      "False\n"
     ]
    }
   ],
   "source": [
    "# Истинные объекты\n",
    "print(bool(1))\n",
    "print(bool(-1))\n",
    "print(bool(3.14))\n",
    "print(bool(\"hello\"))\n",
    "print(bool([1, 2]))\n",
    "print(bool({'a': 1}))\n",
    "\n",
    "# Ложные объекты\n",
    "print(bool(0))\n",
    "print(bool(0.0))  \n",
    "print(bool(\"\"))   \n",
    "print(bool([]))   \n",
    "print(bool({})) \n",
    "print(bool(None)) "
   ]
  },
  {
   "cell_type": "markdown",
   "id": "694c42fc-721f-44c4-9367-c817d7f11301",
   "metadata": {},
   "source": [
    "Понимание истинности и ложности объектов в Python позволяет более эффективно управлять логическими операциями и условиями в коде."
   ]
  },
  {
   "cell_type": "code",
   "execution_count": null,
   "id": "6c3524aa-0742-45a0-808d-6d9872dbeb5c",
   "metadata": {},
   "outputs": [],
   "source": []
  }
 ],
 "metadata": {
  "kernelspec": {
   "display_name": "Python 3 (ipykernel)",
   "language": "python",
   "name": "python3"
  },
  "language_info": {
   "codemirror_mode": {
    "name": "ipython",
    "version": 3
   },
   "file_extension": ".py",
   "mimetype": "text/x-python",
   "name": "python",
   "nbconvert_exporter": "python",
   "pygments_lexer": "ipython3",
   "version": "3.12.7"
  }
 },
 "nbformat": 4,
 "nbformat_minor": 5
}
