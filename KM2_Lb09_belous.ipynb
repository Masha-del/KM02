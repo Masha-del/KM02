{
 "cells": [
  {
   "cell_type": "markdown",
   "id": "9e3c39ca-e274-4b44-b1b6-52d0f7201007",
   "metadata": {},
   "source": [
    "# Лабораторная работа 9. Создание текстового файла большого объема с помощью генераторной функции"
   ]
  },
  {
   "cell_type": "markdown",
   "id": "b10e8978-284f-4858-a27c-f55077954c77",
   "metadata": {},
   "source": [
    "Белоус Мария Руслановна 25.05.2025"
   ]
  },
  {
   "cell_type": "code",
   "execution_count": 1,
   "id": "dc729ec3-fc98-4d0d-b82e-9d916ab9eb8d",
   "metadata": {},
   "outputs": [],
   "source": [
    "from random import randint"
   ]
  },
  {
   "cell_type": "code",
   "execution_count": 2,
   "id": "8b95143d-063c-4acc-bf7d-da45964ef068",
   "metadata": {},
   "outputs": [
    {
     "data": {
      "text/plain": [
       "\u001b[1;31mSignature:\u001b[0m \u001b[0mrandint\u001b[0m\u001b[1;33m(\u001b[0m\u001b[0ma\u001b[0m\u001b[1;33m,\u001b[0m \u001b[0mb\u001b[0m\u001b[1;33m)\u001b[0m\u001b[1;33m\u001b[0m\u001b[1;33m\u001b[0m\u001b[0m\n",
       "\u001b[1;31mDocstring:\u001b[0m\n",
       "Return random integer in range [a, b], including both end points.\n",
       "        \n",
       "\u001b[1;31mFile:\u001b[0m      c:\\users\\user\\anaconda3\\lib\\random.py\n",
       "\u001b[1;31mType:\u001b[0m      method"
      ]
     },
     "metadata": {},
     "output_type": "display_data"
    }
   ],
   "source": [
    "?randint"
   ]
  },
  {
   "cell_type": "code",
   "execution_count": 3,
   "id": "443d6b0c-eeb8-4208-b89e-bc4b0b00dd4c",
   "metadata": {},
   "outputs": [
    {
     "data": {
      "text/plain": [
       "'Код символа: 105, символ: i'"
      ]
     },
     "execution_count": 3,
     "metadata": {},
     "output_type": "execute_result"
    }
   ],
   "source": [
    "latin_code = (ord('a'), ord('z')) # соответствует type_symbols = 'latin'\n",
    "f'Код символа: {(c:=randint(*latin_code))}, символ: {chr(c)}'"
   ]
  },
  {
   "cell_type": "code",
   "execution_count": 4,
   "id": "5e2e2d98-1514-45f4-a116-32645ca3478c",
   "metadata": {},
   "outputs": [],
   "source": [
    "from time import process_time"
   ]
  },
  {
   "cell_type": "code",
   "execution_count": 5,
   "id": "8dda8c53-c0dd-4341-9620-b06dcd9d3df4",
   "metadata": {},
   "outputs": [
    {
     "data": {
      "text/plain": [
       "\u001b[1;31mDocstring:\u001b[0m\n",
       "process_time() -> float\n",
       "\n",
       "Process time for profiling: sum of the kernel and user-space CPU time.\n",
       "\u001b[1;31mType:\u001b[0m      builtin_function_or_method"
      ]
     },
     "metadata": {},
     "output_type": "display_data"
    }
   ],
   "source": [
    "?process_time"
   ]
  },
  {
   "cell_type": "code",
   "execution_count": 6,
   "id": "fc57be1d-135f-4e13-af07-965fc52f360c",
   "metadata": {},
   "outputs": [
    {
     "name": "stdout",
     "output_type": "stream",
     "text": [
      "0.09375 секунд\n"
     ]
    }
   ],
   "source": [
    "start = process_time()\n",
    "[x**2 for x in range(1_000_000)]\n",
    "end = process_time()\n",
    "print(f'{end - start} секунд')"
   ]
  },
  {
   "cell_type": "markdown",
   "id": "a2fad164-47d3-4d58-a391-c19d53149229",
   "metadata": {},
   "source": [
    "### Задание 9.1. Запись данных в текстовый файл"
   ]
  },
  {
   "cell_type": "code",
   "execution_count": 7,
   "id": "e8591f45-1dee-4e15-aa91-77289e855b8b",
   "metadata": {},
   "outputs": [],
   "source": [
    "file_name = 'test.txt'\n",
    "f = open(file_name, 'w')"
   ]
  },
  {
   "cell_type": "code",
   "execution_count": 8,
   "id": "7614cf39-49e6-40fe-80e1-975312a43b40",
   "metadata": {},
   "outputs": [
    {
     "data": {
      "text/plain": [
       "['t\\n', 'e\\n', 's\\n', 't\\n']"
      ]
     },
     "execution_count": 8,
     "metadata": {},
     "output_type": "execute_result"
    }
   ],
   "source": [
    "lines_list = [f'{x}\\n' for x in 'test']\n",
    "lines_list"
   ]
  },
  {
   "cell_type": "code",
   "execution_count": 9,
   "id": "4e1422e4-0d38-4970-ac69-7d00aad0ae57",
   "metadata": {},
   "outputs": [],
   "source": [
    "f.writelines(lines_list)"
   ]
  },
  {
   "cell_type": "code",
   "execution_count": 10,
   "id": "fcbec245-fa30-4929-b0ec-3ccffe952e23",
   "metadata": {},
   "outputs": [],
   "source": [
    "f.close()"
   ]
  },
  {
   "cell_type": "code",
   "execution_count": 11,
   "id": "e5775ef8-f11b-43aa-8066-0c4a638e4098",
   "metadata": {},
   "outputs": [
    {
     "name": "stdout",
     "output_type": "stream",
     "text": [
      "t\n",
      "e\n",
      "s\n",
      "t\n"
     ]
    }
   ],
   "source": [
    "with open(file_name,'r') as f:\n",
    "    for line in f:\n",
    "        print(line, end='')"
   ]
  },
  {
   "cell_type": "code",
   "execution_count": 12,
   "id": "6dfa9e6e-45da-4f9b-852b-25b6d44d4d7a",
   "metadata": {},
   "outputs": [],
   "source": [
    "lines_gen_expr = (f'{x}\\n' for x in range(10**6))\n",
    "\n",
    "def lines_gen_fun(number_lines=10**6):\n",
    "    yield from (f'{x}\\n' for x in range(number_lines))\n",
    "\n",
    "with open(file_name,'w') as f:\n",
    "    f.writelines(lines_gen_expr)\n",
    "    f.writelines(lines_gen_fun())"
   ]
  },
  {
   "cell_type": "code",
   "execution_count": 13,
   "id": "29c98cca-bad5-47e4-9f80-207b3b3a49e4",
   "metadata": {},
   "outputs": [
    {
     "name": "stdout",
     "output_type": "stream",
     "text": [
      "6.569757461547852 Mb\n"
     ]
    }
   ],
   "source": [
    "def lines_gen_fun(number_lines = 10**6):\n",
    "    file_size = 0\n",
    "    for x in range(number_lines):\n",
    "        line = f'{x}\\n'\n",
    "        yield line\n",
    "        file_size += len(line)\n",
    "    print(f'{file_size/1024**2} Mb')\n",
    "\n",
    "with open(file_name,'w') as f:\n",
    "    f.writelines(lines_gen_fun())"
   ]
  },
  {
   "cell_type": "code",
   "execution_count": 14,
   "id": "7655f649-f086-4fe3-8444-e87a3b7b0671",
   "metadata": {},
   "outputs": [
    {
     "data": {
      "text/plain": [
       "(1, 1, 1, 2)"
      ]
     },
     "execution_count": 14,
     "metadata": {},
     "output_type": "execute_result"
    }
   ],
   "source": [
    "len('f'), len('f'.encode('utf8')), len('ц'), len('ц'.encode('utf8'))"
   ]
  },
  {
   "cell_type": "code",
   "execution_count": 15,
   "id": "e1a40e6d-81b5-4e7d-a042-40a68caaa086",
   "metadata": {},
   "outputs": [
    {
     "name": "stdout",
     "output_type": "stream",
     "text": [
      "6.569757461547852 Mb\n",
      "0.84375 секунд\n"
     ]
    }
   ],
   "source": [
    "with open(file_name,'w') as f:\n",
    "    start = process_time()\n",
    "    f.writelines(lines_gen_fun()) \n",
    "    end = process_time()\n",
    "    print(end - start, 'секунд')"
   ]
  },
  {
   "cell_type": "markdown",
   "id": "db107e2d-e0dd-4ef0-88a0-46a1126584cb",
   "metadata": {},
   "source": [
    "Напишите комментарии для каждой строки кода функции `lines_gen_fun`."
   ]
  },
  {
   "cell_type": "code",
   "execution_count": 16,
   "id": "a252093f-eda5-4180-bb0d-1f493444b42a",
   "metadata": {},
   "outputs": [],
   "source": [
    "def lines_gen_fun(number_lines=10**6, status=False):\n",
    "    # отслеживаем общий размер файла в байтах\n",
    "    file_size = 0\n",
    "    \n",
    "    # цикл по количеству строк\n",
    "    for x in range(number_lines):\n",
    "        # создаем строку с текущим числом и переносом строки\n",
    "        line = f'{x}\\n'\n",
    "        \n",
    "        # возвращаем строку\n",
    "        yield line\n",
    "        \n",
    "        # увеличиваем размер файла на длину строки\n",
    "        file_size += len(line)\n",
    "        \n",
    "        # если нужно отображать статус\n",
    "        if status:\n",
    "            # вычисляем процент выполнения\n",
    "            status_number = x / number_lines * 100\n",
    "            \n",
    "            # выводим процент, перезаписывая текущую строку\n",
    "            print(f'\\r{int(status_number)}%', end='', flush=True)\n",
    "    \n",
    "    # выводим общий размер файла в мегабайтах\n",
    "    print(f'\\n {file_size / 1024**2} Mb')"
   ]
  },
  {
   "cell_type": "code",
   "execution_count": 17,
   "id": "494f30eb-7664-46ec-a4ba-e92e9a205d38",
   "metadata": {},
   "outputs": [
    {
     "name": "stdout",
     "output_type": "stream",
     "text": [
      "99%\n",
      " 0.008478164672851562 Mb\n",
      "1.140625 секунд\n"
     ]
    }
   ],
   "source": [
    "with open(file_name,'w') as f:\n",
    "    start = process_time()\n",
    "    f.writelines(lines_gen_fun(2*10**3, status=True))\n",
    "    end = process_time()\n",
    "    print(f'{end - start} секунд')"
   ]
  },
  {
   "cell_type": "markdown",
   "id": "a5fe3b86-752b-4089-9295-5fced7d85512",
   "metadata": {},
   "source": [
    "### Задание 9.2. Генерация строк"
   ]
  },
  {
   "cell_type": "code",
   "execution_count": 18,
   "id": "599cc773-ff9d-459a-9f7d-d038b2e38623",
   "metadata": {},
   "outputs": [],
   "source": [
    "latin_code = (ord('a'), ord('z')) # соответствует type_symbols = 'latin'\n",
    "number_words = (10, 20)\n",
    "number_symbols = (5, 10)"
   ]
  },
  {
   "cell_type": "code",
   "execution_count": 19,
   "id": "056a11a6-73be-4fb5-9420-a55dc1c2504a",
   "metadata": {},
   "outputs": [
    {
     "data": {
      "text/plain": [
       "'vefgbbxm'"
      ]
     },
     "execution_count": 19,
     "metadata": {},
     "output_type": "execute_result"
    }
   ],
   "source": [
    "len_word = randint(*number_symbols)\n",
    "word = ''.join([chr(randint(*latin_code)) for i in range(len_word)])\n",
    "word"
   ]
  },
  {
   "cell_type": "markdown",
   "id": "252f9713-3d9c-4b22-8c5e-a110ca46ed06",
   "metadata": {},
   "source": [
    "1.Напишите код для генерации строки со случайным количеством слов, случайной длиной слова и случайным набором символов в слове для трех множеств смволов: прописные латинские символы, цифровые символы, прописные кириллические символы. Протестируйте написанный код.\n",
    "2.Напишите генераторную функцию `lines_gen_fun_v2(file_size, type_symbols, number_words, number_symbols)` для генерации строк, суммарный размер которых в мегабайтах равен file_size.\n",
    "3.Напишите комментарии для каждой строки кода функции `lines_gen_fun_v2`.\n",
    "4.Напишите строки документации для функции `lines_gen_fun_v2`.\n",
    "5.Протестируйте функцию `lines_gen_fun_v2` для различных значений аргументов в предположении, что корректность вводимых данных гарантируется"
   ]
  },
  {
   "cell_type": "markdown",
   "id": "1d0164b5-cd31-4b98-8037-ae5efba8f45d",
   "metadata": {},
   "source": [
    "1:"
   ]
  },
  {
   "cell_type": "code",
   "execution_count": 20,
   "id": "0f510fd6-6753-4264-8f08-87d7dc45e1b0",
   "metadata": {},
   "outputs": [
    {
     "name": "stdout",
     "output_type": "stream",
     "text": [
      "160489 ОМЗЫКЧЬ ЩХИ 75484455\n",
      "ВЪТН OHIRPUYRFL МИЦОДА OQTCFBLWH 199757 7149719627\n",
      "958 NGMHVWKOZ MVFHEFIVV 00475 RPIZM OCSUII MJZTMCZI НКНД KTNCEX\n",
      "31931 FTVH HQHI 0138819716 437 CYKN\n",
      "175135 ДЦК 675 66713629 32194 QNJ ЁЫЫЬЧЪ 280834052\n"
     ]
    }
   ],
   "source": [
    "import random\n",
    "import string\n",
    "\n",
    "def generate_random_string():\n",
    "    # Определяем множества символов\n",
    "    uppercase_latin = string.ascii_uppercase\n",
    "    digits = string.digits\n",
    "    uppercase_cyrillic = 'АБВГДЕЁЖЗИЙКЛМНОПРСТУФХЦЧШЩЪЫЬЭЮЯ'\n",
    "    \n",
    "    # Случайный выбор количества слов (например, от 1 до 10)\n",
    "    number_words = random.randint(1, 10)\n",
    "    \n",
    "    # Список для хранения слов\n",
    "    words = []\n",
    "    \n",
    "    for _ in range(number_words):\n",
    "        # Случайная длина слова \n",
    "        length = random.randint(3, 10)\n",
    "        \n",
    "        # Случайный выбор набора символов\n",
    "        symbol_set = random.choice([uppercase_latin, digits, uppercase_cyrillic])\n",
    "        \n",
    "        # Генерация случайного слова\n",
    "        word = ''.join(random.choices(symbol_set, k=length))\n",
    "        \n",
    "        # Добавление слова в список\n",
    "        words.append(word)\n",
    "    \n",
    "    # Объединение слов в строку с пробелами\n",
    "    random_string = ' '.join(words)\n",
    "    return random_string\n",
    "\n",
    "# Тестирование функции\n",
    "if __name__ == \"__main__\":\n",
    "    # Генерируем и выводим 5 случайных строк\n",
    "    for _ in range(5):\n",
    "        print(generate_random_string())"
   ]
  },
  {
   "cell_type": "markdown",
   "id": "7a47e955-bbdc-4bd5-94e8-2fe754db046e",
   "metadata": {},
   "source": [
    "2, 3, 4:"
   ]
  },
  {
   "cell_type": "code",
   "execution_count": 21,
   "id": "6acd9578-f3f0-490c-9fa0-55af02ba3801",
   "metadata": {},
   "outputs": [],
   "source": [
    "def lines_gen_fun_v2(file_size, type_symbols, number_words, number_symbols):\n",
    "    \"\"\"\n",
    "    Генераторная функция для создания строк с заданными параметрами.\n",
    "\n",
    "    :param file_size: Целевой размер файла в мегабайтах (float)\n",
    "    :param type_symbols: Тип символов ('latin', 'digits', 'cyrillic')\n",
    "    :param number_words: Количество слов в строке (int)\n",
    "    :param number_symbols: Количество символов в слове (int)\n",
    "    :yield: Строка с заданными параметрами\n",
    "    \"\"\"\n",
    "    # Преобразуем размер файла в байты\n",
    "    target_size = file_size * 1024 * 1024\n",
    "    \n",
    "    # Определяем множество символов в зависимости от типа\n",
    "    if type_symbols == 'latin':\n",
    "        symbol_set = string.ascii_uppercase\n",
    "    elif type_symbols == 'digits':\n",
    "        symbol_set = string.digits\n",
    "    elif type_symbols == 'cyrillic':\n",
    "        symbol_set = 'АБВГДЕЁЖЗИЙКЛМНОПРСТУФХЦЧШЩЪЫЬЭЮЯ'\n",
    "    else:\n",
    "        raise ValueError(\"Неверный тип символов\")\n",
    "    \n",
    "    # Инициализация переменной для отслеживания размера\n",
    "    current_size = 0\n",
    "    \n",
    "    while True:\n",
    "        # Генерация строки\n",
    "        line = ' '.join([''.join(random.choices(symbol_set, k=number_symbols)) for _ in range(number_words)])\n",
    "        \n",
    "        # Вычисление размера строки в байтах\n",
    "        line_size = len(line.encode('utf-8'))\n",
    "        \n",
    "        # Проверка, не превышает ли размер целевого размера\n",
    "        if current_size + line_size > target_size:\n",
    "            return\n",
    "        \n",
    "        # Возврат строки\n",
    "        yield line\n",
    "        \n",
    "        # Увеличение текущего размера\n",
    "        current_size += line_size"
   ]
  },
  {
   "cell_type": "markdown",
   "id": "d5159c21-4aca-4846-96d8-fdb7c3eadd59",
   "metadata": {},
   "source": [
    "5:"
   ]
  },
  {
   "cell_type": "code",
   "execution_count": 22,
   "id": "9d5139d4-f58a-4d19-b39d-8ca1c87cf4ab",
   "metadata": {},
   "outputs": [
    {
     "name": "stdout",
     "output_type": "stream",
     "text": [
      "ЕЖЫЙЪАИЮ ПРЕХНПЙО ФТБЙДДЕЬ ГЕЪЯФПЁЕ КЕЛЖВНЧЫ\n",
      "ВЁАОДЪЕГ УЛЙЭЙРЬЯ ЕЕЪМХКЪТ СЖЦЛИФЛЙ ЛХЙДППРГ\n",
      "ТГЕПЪГДЯ РБТХКУТЫ ФПФЗЧЭНЁ ХЮСРТРСЦ НФМПИЬЩЪ\n",
      "ЪДХУРУММ ЙНЁЧЖХЮЗ ХЛСКМЖМВ ОЙАМИЕМЙ СКЕЕВЕКЩ\n",
      "ЭЧХЛОЩЭД ЁЮОЬЁХЧК СЗВААВСЭ СЫЙНМФРЬ ББЮЁШЕЭВ\n"
     ]
    }
   ],
   "source": [
    "# Тестирование функции\n",
    "if __name__ == \"__main__\":\n",
    "    file_size = 1  # 1 Мб\n",
    "    type_symbols = 'cyrillic'\n",
    "    number_words = 5\n",
    "    number_symbols = 8\n",
    "    \n",
    "    # Создание генератора\n",
    "    generator = lines_gen_fun_v2(file_size, type_symbols, number_words, number_symbols)\n",
    "    \n",
    "    # Генерация и вывод 5 строк\n",
    "    for _ in range(5):\n",
    "        print(next(generator))"
   ]
  },
  {
   "cell_type": "markdown",
   "id": "d3a437f2-110a-4796-ba29-52688f625068",
   "metadata": {},
   "source": [
    "### Задание 9.3. Запись сгенерированных строк в текстовый файл"
   ]
  },
  {
   "cell_type": "markdown",
   "id": "7aabc9dd-ac85-496d-8d47-f38b84df75f5",
   "metadata": {},
   "source": [
    "1.Напишите результирующую генераторную функцию"
   ]
  },
  {
   "cell_type": "markdown",
   "id": "529968b4-42b4-434f-b509-f067650d9e0f",
   "metadata": {},
   "source": [
    "file_gen(file_name: str,\n",
    "    file_size: int,\n",
    "    type_symbols: str='latin',\n",
    "    number_words: (int,int)=(10,20),\n",
    "    number_symbols: (int,int)=(5,10))"
   ]
  },
  {
   "cell_type": "markdown",
   "id": "8cb49172-9231-4a6c-894c-9c7eaae5379a",
   "metadata": {},
   "source": [
    "Функция `ile_gen` должна использовать функцию `lines_gen_fun_v2` из Задания 9.2. Функция `file_gen` должна выводить на экран:"
   ]
  },
  {
   "cell_type": "markdown",
   "id": "0653549a-3a13-4a9b-a77c-fbb8e5e4aa56",
   "metadata": {},
   "source": [
    "- процент записанных данных в процессе выполнения функции,\n",
    "- фактический размер записанных данных в мегабайтах,\n",
    "- время для выполнения кода функции."
   ]
  },
  {
   "cell_type": "markdown",
   "id": "93f8e050-2a4e-4abc-a831-b6ca24e6a357",
   "metadata": {},
   "source": [
    "2. Напишите комментарии для каждой строки кода функции `file_gen`.\n",
    "3. Напишите строки документации для функции `file_gen`.\n",
    "4. Протестируйте функцию `file_gen` для различных значений аргументов в предположении, что корректность вводимых данных гарантируется."
   ]
  },
  {
   "cell_type": "code",
   "execution_count": 25,
   "id": "8329aa31-cab2-4a96-8d92-497acd79c739",
   "metadata": {},
   "outputs": [],
   "source": [
    "import random\n",
    "import string\n",
    "import time\n",
    "\n",
    "def file_gen(file_name: str,\n",
    "            file_size: int,\n",
    "            type_symbols: str = 'latin',\n",
    "            number_words: tuple[int, int] = (10, 20),\n",
    "            number_symbols: tuple[int, int] = (5, 10)):\n",
    "    \"\"\"\n",
    "    Генераторная функция для создания строк с заданными параметрами и записи их в файл.\n",
    "\n",
    "    :param file_name: Имя файла для записи (str)\n",
    "    :param file_size: Целевой размер файла в мегабайтах (int)\n",
    "    :param type_symbols: Тип символов ('latin', 'digits', 'cyrillic') (str)\n",
    "    :param number_words: Диапазон количества слов в строке (tuple[int, int])\n",
    "    :param number_symbols: Диапазон количества символов в слове (tuple[int, int])\n",
    "    \"\"\"\n",
    "    target_size = file_size * 1024 * 1024  # Переводим размер файла в байты\n",
    "    current_size = 0  # Текущий размер файла в байтах\n",
    "    start_time = time.time()  # Засекаем время начала выполнения функции\n",
    "\n",
    "    # Определяем множество символов в зависимости от типа\n",
    "    if type_symbols == 'latin':\n",
    "        symbol_set = string.ascii_uppercase\n",
    "    elif type_symbols == 'digits':\n",
    "        symbol_set = string.digits\n",
    "    elif type_symbols == 'cyrillic':\n",
    "        symbol_set = 'АБВГДЕЁЖЗИЙКЛМНОПРСТУФХЦЧШЩЪЫЬЭЮЯ'\n",
    "    else:\n",
    "        raise ValueError(\"Неверный тип символов\")\n",
    "\n",
    "    with open(file_name, 'w') as file:\n",
    "        while current_size < target_size:\n",
    "            # Генерируем случайное количество слов и символов в слове\n",
    "            words_count = random.randint(*number_words)\n",
    "            symbols_count = random.randint(*number_symbols)\n",
    "            \n",
    "            # Генерируем строку\n",
    "            line = ' '.join([''.join(random.choices(symbol_set, k=symbols_count)) for _ in range(words_count)])\n",
    "            \n",
    "            # Записываем строку в файл\n",
    "            file.write(line + '\\n')\n",
    "            \n",
    "            # Увеличиваем текущий размер файла\n",
    "            current_size += len(line.encode('utf-8'))\n",
    "            \n",
    "            # Выводим процент записанных данных\n",
    "            percent = (current_size / target_size) * 100\n",
    "            print(f'\\r{int(percent)}%', end='', flush=True)\n",
    "    \n",
    "    # Выводим фактический размер записанных данных и время выполнения\n",
    "    actual_size = current_size / 1024 / 1024\n",
    "    elapsed_time = time.time() - start_time\n",
    "    print(f'\\n {actual_size:.2f} Mb')\n",
    "    print(f' Время выполнения: {elapsed_time:.2f} сек')"
   ]
  },
  {
   "cell_type": "code",
   "execution_count": 26,
   "id": "fdc4894f-dffc-4fc3-ae04-b2f7178c5f56",
   "metadata": {},
   "outputs": [
    {
     "name": "stdout",
     "output_type": "stream",
     "text": [
      "Файл 'output.txt' успешно создан! Размер: 1 МБ.\n"
     ]
    }
   ],
   "source": [
    "import random\n",
    "\n",
    "def file_gen(file_name: str, file_size: int, type_symbols: str, number_words: tuple, number_symbols: tuple):\n",
    "    \"\"\"\n",
    "    Генерация случайного текстового файла.\n",
    "    \n",
    "    :param file_name: Имя файла для записи\n",
    "    :param file_size: Размер файла в мегабайтах\n",
    "    :param type_symbols: Тип символов ('cyrillic' или 'latin')\n",
    "    :param number_words: Диапазон количества слов в строке\n",
    "    :param number_symbols: Диапазон количества символов в слове\n",
    "    \"\"\"\n",
    "    if type_symbols == 'cyrillic':\n",
    "        alphabet = \"абвгдеёжзийклмнопрстуфхцчшщъыьэюя\"\n",
    "    else:\n",
    "        alphabet = \"abcdefghijklmnopqrstuvwxyz\"\n",
    "\n",
    "    def random_word():\n",
    "        \"\"\"Создаёт случайное слово\"\"\"\n",
    "        return ''.join(random.choice(alphabet) for _ in range(random.randint(*number_symbols)))\n",
    "\n",
    "    def random_line():\n",
    "        \"\"\"Создаёт случайную строку текста\"\"\"\n",
    "        return ' '.join(random_word() for _ in range(random.randint(*number_words))) + '\\n'\n",
    "\n",
    "    with open(file_name, 'w', encoding='utf-8') as f:\n",
    "        target_size = file_size * 1024 * 1024  # Преобразуем размер в байты\n",
    "        written_size = 0\n",
    "\n",
    "        while written_size < target_size:\n",
    "            line = random_line()\n",
    "            f.write(line)\n",
    "            written_size += len(line.encode('utf-8'))  # Учитываем размер в байтах\n",
    "\n",
    "    print(f\"Файл '{file_name}' успешно создан! Размер: {file_size} МБ.\")\n",
    "\n",
    "# Тестирование функции\n",
    "if __name__ == \"__main__\":\n",
    "    file_name = 'output.txt'\n",
    "    file_size = 1  # 1 МБ\n",
    "    type_symbols = 'cyrillic'  # Генерируем кириллический текст\n",
    "    number_words = (5, 10)  # Количество слов в строке\n",
    "    number_symbols = (3, 8)  # Количество символов в слове\n",
    "\n",
    "    file_gen(file_name, file_size, type_symbols, number_words, number_symbols)\n"
   ]
  }
 ],
 "metadata": {
  "kernelspec": {
   "display_name": "Python 3 (ipykernel)",
   "language": "python",
   "name": "python3"
  },
  "language_info": {
   "codemirror_mode": {
    "name": "ipython",
    "version": 3
   },
   "file_extension": ".py",
   "mimetype": "text/x-python",
   "name": "python",
   "nbconvert_exporter": "python",
   "pygments_lexer": "ipython3",
   "version": "3.12.7"
  }
 },
 "nbformat": 4,
 "nbformat_minor": 5
}
