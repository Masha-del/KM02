{
 "cells": [
  {
   "cell_type": "markdown",
   "id": "702e0e1f-8d9b-4b52-93ab-dc6b4962fa40",
   "metadata": {},
   "source": [
    "# Лабораторная работа 6. Выравнивание списка, состоящего из итерируемых объектов, на основе рекурсии"
   ]
  },
  {
   "cell_type": "markdown",
   "id": "05d553fc-a910-4003-aa44-f28bedcb3063",
   "metadata": {},
   "source": [
    "#### Белоус Мария Руслановна 27.04.2025"
   ]
  },
  {
   "cell_type": "markdown",
   "id": "8574e870-f8ce-4f68-9bdd-7092b72bf05f",
   "metadata": {},
   "source": [
    "### Задание 6.1. Выравнивание вложенных списков"
   ]
  },
  {
   "cell_type": "markdown",
   "id": "3a856c2b-edc0-4f4d-babf-6c835054406f",
   "metadata": {},
   "source": [
    "### Задание 6.1.1. Рекурсивная функция `flatten_list_v1`"
   ]
  },
  {
   "cell_type": "code",
   "execution_count": 1,
   "id": "e7b01ffd-2d93-4f8d-9b85-08b05a72e950",
   "metadata": {},
   "outputs": [],
   "source": [
    "it_list = [[1],[2,[3]],[[[[[4]]]]],5,6,7]"
   ]
  },
  {
   "cell_type": "code",
   "execution_count": 2,
   "id": "ff05e33f-58e1-462f-b36a-595c5c5c7c37",
   "metadata": {},
   "outputs": [
    {
     "data": {
      "text/plain": [
       "\u001b[1;31mSignature:\u001b[0m \u001b[0misinstance\u001b[0m\u001b[1;33m(\u001b[0m\u001b[0mobj\u001b[0m\u001b[1;33m,\u001b[0m \u001b[0mclass_or_tuple\u001b[0m\u001b[1;33m,\u001b[0m \u001b[1;33m/\u001b[0m\u001b[1;33m)\u001b[0m\u001b[1;33m\u001b[0m\u001b[1;33m\u001b[0m\u001b[0m\n",
       "\u001b[1;31mDocstring:\u001b[0m\n",
       "Return whether an object is an instance of a class or of a subclass thereof.\n",
       "\n",
       "A tuple, as in ``isinstance(x, (A, B, ...))``, may be given as the target to\n",
       "check against. This is equivalent to ``isinstance(x, A) or isinstance(x, B)\n",
       "or ...`` etc.\n",
       "\u001b[1;31mType:\u001b[0m      builtin_function_or_method"
      ]
     },
     "metadata": {},
     "output_type": "display_data"
    }
   ],
   "source": [
    "?isinstance"
   ]
  },
  {
   "cell_type": "markdown",
   "id": "5922efbe-feb2-4e69-8136-e275c18fe1ca",
   "metadata": {},
   "source": [
    "### Напишите комментарии для каждой строки кода функции `flatten_list_v1`."
   ]
  },
  {
   "cell_type": "code",
   "execution_count": 3,
   "id": "112630ad-d7bf-4169-b4dd-74f48030922f",
   "metadata": {},
   "outputs": [],
   "source": [
    "def flatten_list_v1(nested_obj):\n",
    "    result = []\n",
    "    if isinstance(nested_obj,list): # проверка является ли объект списком\n",
    "        for item in nested_obj: # проходим по элементам списка\n",
    "            result += flatten_list_v1(item) # рекурсия\n",
    "    else:\n",
    "        result += [nested_obj] # добавляем в результат\n",
    "    return result"
   ]
  },
  {
   "cell_type": "code",
   "execution_count": 4,
   "id": "e9eb5d75-af44-4b7b-a27b-5f11929be489",
   "metadata": {},
   "outputs": [
    {
     "data": {
      "text/plain": [
       "[1, 2, 3, 4, 5, 6, 7]"
      ]
     },
     "execution_count": 4,
     "metadata": {},
     "output_type": "execute_result"
    }
   ],
   "source": [
    "flatten_list_v1(it_list)"
   ]
  },
  {
   "cell_type": "markdown",
   "id": "c9516145-1df0-4c07-a0cf-37664489d5a0",
   "metadata": {},
   "source": [
    "### Задание 6.1.2. Генераторная функция на основе рекурсии `flatten_list_v2`"
   ]
  },
  {
   "cell_type": "markdown",
   "id": "8361d884-5304-4223-9724-355b09aba0c5",
   "metadata": {},
   "source": [
    "На основе функции `flatten_list_v1` напишите генераторную функцию `flatten_list_v2(nested_obj)`, которая выравнивает вложенный список и возвращает генератнорый объект для элементов вложенного списка.\n",
    "\n",
    "Напишите комментарии для каждой строки кода функции `flatten_list_v2`.\n",
    "\n",
    "Предложите два варианта реализации: только с использованием `yield` (вариант 1) и с использованием `yield from`(вариант 2).\n",
    "\n",
    "Вариант 1:"
   ]
  },
  {
   "cell_type": "code",
   "execution_count": 7,
   "id": "251651ce-875c-4efa-9cac-eda1ce9f1a6e",
   "metadata": {},
   "outputs": [],
   "source": [
    "def flatten_list_v2(nested_obj):\n",
    "    if isinstance(nested_obj, list):  # проверяем, является ли объект списком\n",
    "        for item in nested_obj:  # проходим по элементам списка\n",
    "            for sub_item in flatten_list_v2(item):  # рекурсивно генерируем элементы\n",
    "                yield sub_item  # генерируем элементы\n",
    "    else:\n",
    "        yield nested_obj  # генерируем элемент, если он не список"
   ]
  },
  {
   "cell_type": "code",
   "execution_count": 8,
   "id": "4b39d035-f7fe-4e55-8059-7c0489d57666",
   "metadata": {},
   "outputs": [
    {
     "name": "stdout",
     "output_type": "stream",
     "text": [
      "[1, 2, 3, 4, 5, 6, 7]\n"
     ]
    }
   ],
   "source": [
    "print([x for x in flatten_list_v2(it_list)])"
   ]
  },
  {
   "cell_type": "markdown",
   "id": "27e73694-faff-44bd-b077-cfc2bb6d7643",
   "metadata": {},
   "source": [
    "##### Вариант 2:"
   ]
  },
  {
   "cell_type": "code",
   "execution_count": 9,
   "id": "ce6f5a47-7353-42a3-aed8-31fdf1ee9a93",
   "metadata": {},
   "outputs": [],
   "source": [
    "def flatten_list_v2_v2(nested_obj):\n",
    "    if isinstance(nested_obj, list):  # проверяем, является ли объект списком\n",
    "        for item in nested_obj:  # проходим по элементам списка\n",
    "            yield from flatten_list_v2_v2(item)  # генерируем элементы\n",
    "    else:\n",
    "        yield nested_obj  # генерируем элемент, если он не список"
   ]
  },
  {
   "cell_type": "code",
   "execution_count": 10,
   "id": "4410342a-7b18-4465-bcaf-bfd62241022d",
   "metadata": {},
   "outputs": [
    {
     "name": "stdout",
     "output_type": "stream",
     "text": [
      "[1, 2, 3, 4, 5, 6, 7]\n"
     ]
    }
   ],
   "source": [
    "print([x for x in flatten_list_v2_v2(it_list)])"
   ]
  },
  {
   "cell_type": "markdown",
   "id": "5351ebb1-70e0-434c-9dc5-ec533eaedeba",
   "metadata": {},
   "source": [
    "#### Задание 6.1.3. Функция `flatten_list`: создание, документирование, тестирование"
   ]
  },
  {
   "cell_type": "markdown",
   "id": "3d9cafd7-f6b2-4c2b-a02b-3a72ccdb8ada",
   "metadata": {},
   "source": [
    "### Объедините две пользовательские функции `flatten_list_v1` и `flatten_list_v2` в одну пользовательскую функцию `flatten_list(nested_obj, gen)`, которая возвращает либо список из элементов вложенных списков без сохранения структуры, если `gen=False`, либо возвращает генераторный объект, если `gen=True`. Стандартным значением для аргумента gen является объект `False`."
   ]
  },
  {
   "cell_type": "markdown",
   "id": "932ff59a-7003-4237-b3ae-d91585edf020",
   "metadata": {},
   "source": [
    "### Напишите строки документации для функции `flatten_list`."
   ]
  },
  {
   "cell_type": "code",
   "execution_count": 11,
   "id": "ad9dd68d-3b71-47e8-97fb-118fb82c39bc",
   "metadata": {},
   "outputs": [],
   "source": [
    "def flatten_list(nested_obj, gen=False):\n",
    "    \"\"\" Возвращает список или генераторный объект элементов вложенных списков. \"\"\"\n",
    "    if gen:\n",
    "        return flatten_list_v2(nested_obj)  # генераторный объект\n",
    "    else:\n",
    "        return flatten_list_v1(nested_obj)  # список"
   ]
  },
  {
   "cell_type": "markdown",
   "id": "12e78f30-a741-458e-9c7d-c5f3a9d3f047",
   "metadata": {},
   "source": [
    "### Приведите три примера вызова функции `flatten_list` для различных значений аргументов в предположении, что корректность вводимых данных гарантируется.\n",
    "\n",
    "Пример 1:"
   ]
  },
  {
   "cell_type": "code",
   "execution_count": 12,
   "id": "5401e3c0-0028-44db-9ac9-ef9f409aea11",
   "metadata": {},
   "outputs": [
    {
     "name": "stdout",
     "output_type": "stream",
     "text": [
      "['abc', 'de']\n"
     ]
    }
   ],
   "source": [
    "res_1 = flatten_list([\"abc\",[\"de\"]], gen=False)\n",
    "print(res_1)"
   ]
  },
  {
   "cell_type": "markdown",
   "id": "8a94f34d-9f99-485e-840d-14a7a6e8e801",
   "metadata": {},
   "source": [
    "Пример 2:"
   ]
  },
  {
   "cell_type": "code",
   "execution_count": 13,
   "id": "c1524505-3e24-4f64-852d-113b5c9280e6",
   "metadata": {},
   "outputs": [
    {
     "name": "stdout",
     "output_type": "stream",
     "text": [
      "[1, 2, 3, 4, 5, 6, 7]\n"
     ]
    }
   ],
   "source": [
    "print(flatten_list(it_list, gen=False))"
   ]
  },
  {
   "cell_type": "markdown",
   "id": "e36f16b9-94c0-4292-a087-915b9178fa44",
   "metadata": {},
   "source": [
    "Пример 3:"
   ]
  },
  {
   "cell_type": "code",
   "execution_count": 14,
   "id": "ecfd4fdc-ea86-429b-8804-42f61dd6a96f",
   "metadata": {},
   "outputs": [
    {
     "name": "stdout",
     "output_type": "stream",
     "text": [
      "[1, 2, 3, 4, 5, 6, 7]\n"
     ]
    }
   ],
   "source": [
    "print([x for x in flatten_list(it_list, gen=True)])"
   ]
  },
  {
   "cell_type": "markdown",
   "id": "4d94c37f-0600-4fb0-a02d-05e9e7c22772",
   "metadata": {},
   "source": [
    "### Задание 6.2. Выравнивание вложенных итерируемых объектов произвольного типа"
   ]
  },
  {
   "cell_type": "code",
   "execution_count": 15,
   "id": "db02be03-bbf8-42d5-9ac8-8e56ad254237",
   "metadata": {},
   "outputs": [
    {
     "data": {
      "text/plain": [
       "[[1], [2, [3]], [[[[[4]]]]], 5, 6, 7]"
      ]
     },
     "execution_count": 15,
     "metadata": {},
     "output_type": "execute_result"
    }
   ],
   "source": [
    "it_list"
   ]
  },
  {
   "cell_type": "code",
   "execution_count": 16,
   "id": "fee83290-0c9e-4ebd-ab78-b12b8ce8963f",
   "metadata": {},
   "outputs": [],
   "source": [
    "it_tuple = (((7),(8)),(9),10)"
   ]
  },
  {
   "cell_type": "code",
   "execution_count": 17,
   "id": "5298660d-87a2-4747-923a-d878958162be",
   "metadata": {},
   "outputs": [],
   "source": [
    "it_str = \"abcdefgh\""
   ]
  },
  {
   "cell_type": "code",
   "execution_count": 18,
   "id": "3b3eb103-d491-4ab4-bc23-3778ef64394f",
   "metadata": {},
   "outputs": [],
   "source": [
    "it_dict = {\"key1\": 11, \"key2\": {\"key3\": 12}}"
   ]
  },
  {
   "cell_type": "code",
   "execution_count": 19,
   "id": "be36cd05-20d9-428d-8d90-7111f29ef041",
   "metadata": {},
   "outputs": [],
   "source": [
    "it_gen = ([i,i**2,i**3] for i in range(5))"
   ]
  },
  {
   "cell_type": "code",
   "execution_count": 20,
   "id": "aec0e975-0f6a-4aa1-a2c4-37d0196e3d32",
   "metadata": {},
   "outputs": [],
   "source": [
    "it_file = open(\"flatten_file.txt\", \"w+\")"
   ]
  },
  {
   "cell_type": "code",
   "execution_count": 21,
   "id": "8f31bb33-68da-4112-9f65-ab56033dd1aa",
   "metadata": {},
   "outputs": [],
   "source": [
    "it = [it_list, it_tuple, it_str, it_dict, it_gen, it_file]"
   ]
  },
  {
   "cell_type": "code",
   "execution_count": 22,
   "id": "1c581078-3483-4c96-95d5-3ae440785fe0",
   "metadata": {},
   "outputs": [
    {
     "data": {
      "text/plain": [
       "[True, True, True, True, True, True]"
      ]
     },
     "execution_count": 22,
     "metadata": {},
     "output_type": "execute_result"
    }
   ],
   "source": [
    "['__iter__' in dir(x) for x in it]"
   ]
  },
  {
   "cell_type": "code",
   "execution_count": 23,
   "id": "e9b2a23b-d216-441c-9f09-39a39961eb7c",
   "metadata": {},
   "outputs": [
    {
     "data": {
      "text/plain": [
       "[True, True, True, True, True, True]"
      ]
     },
     "execution_count": 23,
     "metadata": {},
     "output_type": "execute_result"
    }
   ],
   "source": [
    "[hasattr(x, '__iter__') for x in it]"
   ]
  },
  {
   "cell_type": "code",
   "execution_count": 24,
   "id": "76afef1a-0787-43d8-ab05-ed0163bd8066",
   "metadata": {},
   "outputs": [
    {
     "data": {
      "text/plain": [
       "\u001b[1;31mSignature:\u001b[0m \u001b[0mhasattr\u001b[0m\u001b[1;33m(\u001b[0m\u001b[0mobj\u001b[0m\u001b[1;33m,\u001b[0m \u001b[0mname\u001b[0m\u001b[1;33m,\u001b[0m \u001b[1;33m/\u001b[0m\u001b[1;33m)\u001b[0m\u001b[1;33m\u001b[0m\u001b[1;33m\u001b[0m\u001b[0m\n",
       "\u001b[1;31mDocstring:\u001b[0m\n",
       "Return whether the object has an attribute with the given name.\n",
       "\n",
       "This is done by calling getattr(obj, name) and catching AttributeError.\n",
       "\u001b[1;31mType:\u001b[0m      builtin_function_or_method"
      ]
     },
     "metadata": {},
     "output_type": "display_data"
    }
   ],
   "source": [
    "?hasattr"
   ]
  },
  {
   "cell_type": "markdown",
   "id": "d484866b-8424-4d12-83f8-9f24e72de9dd",
   "metadata": {},
   "source": [
    "### Задание 6.2.1. Рекурсивная функция `flatten_it_v1`"
   ]
  },
  {
   "cell_type": "markdown",
   "id": "533e1729-2c37-4369-9456-d36d5e04eabc",
   "metadata": {},
   "source": [
    "На основе функции `flatten_list_v1(nested_obj)` напишите пользовательскую функцию `flatten_it_v1(nested_obj)` одного аргумента, которая выравнивает вложенную структуру из различных итерируемых объектов и возвращает список, содержащий только элементы без сохранения структуры.\n",
    "\n",
    "Напишите комментарии для каждой строки кода функции `flatten_it_v1`."
   ]
  },
  {
   "cell_type": "code",
   "execution_count": 25,
   "id": "f1fc4d4f-4423-4b30-9c86-53f39851b4e3",
   "metadata": {},
   "outputs": [],
   "source": [
    "def flatten_it_v1(nested_obj):\n",
    "    result = [] \n",
    "    if hasattr(nested_obj, '__iter__'):  # проверяем, является ли объект итерируемым\n",
    "        if isinstance(nested_obj, str):  # если строка, не итерируем\n",
    "            result += [nested_obj]  # добавляем строку\n",
    "        elif isinstance(nested_obj, dict):  # если словарь, итерируем по ключам и значениям\n",
    "            for key, value in nested_obj.items():\n",
    "                result += flatten_it_v1(key)  # добавляем ключи\n",
    "                result += flatten_it_v1(value)  # добавляем значения\n",
    "        else:\n",
    "            for item in nested_obj:  # проходим по элементам итерируемого объекта\n",
    "                result += flatten_it_v1(item)  # рекурсивно добавляем элементы\n",
    "    else:\n",
    "        result += [nested_obj]  # добавляем элемент, если он не итерируем\n",
    "    return result  "
   ]
  },
  {
   "cell_type": "code",
   "execution_count": 26,
   "id": "e6dc70ae-0e67-42c1-a5ef-d1bb41cd176c",
   "metadata": {},
   "outputs": [
    {
     "name": "stdout",
     "output_type": "stream",
     "text": [
      "[1, 2, 3, 4, 5, 6, 7]\n"
     ]
    }
   ],
   "source": [
    "print(flatten_it_v1(it_list))"
   ]
  },
  {
   "cell_type": "markdown",
   "id": "6e20d59f-b311-4528-ae0b-90946eb5d4a1",
   "metadata": {},
   "source": [
    "### Задание 6.2.2. Генераторная функция на основе рекурсии `flatten_it_v2`"
   ]
  },
  {
   "cell_type": "markdown",
   "id": "31ba046e-eda8-4539-917b-98234a9a9d8a",
   "metadata": {},
   "source": [
    "На основе функций `flatten_it_v1` и `flatten_list_v2` напишите пользовательскую функцию `flatten_it_v2(nested_obj)`, которая выравнивает вложенную структуру из различных итерируемых объектов и возвращает генератнорый объект элементов без сохранения структуры.\n",
    "\n",
    "Напишите комментарии для каждой строки кода функции `flatten_it_v2`."
   ]
  },
  {
   "cell_type": "code",
   "execution_count": 27,
   "id": "d6900433-2fcc-4266-a980-696639e17138",
   "metadata": {},
   "outputs": [],
   "source": [
    "def flatten_it_v2(nested_obj):\n",
    "    if hasattr(nested_obj, '__iter__'):  # проверяем, является ли объект итерируемым\n",
    "        if isinstance(nested_obj, str):  # если строка, не итерируем\n",
    "            yield nested_obj  # генерируем строку\n",
    "        elif isinstance(nested_obj, dict):  # если словарь, итерируем по ключам и значениям\n",
    "            for key, value in nested_obj.items():\n",
    "                yield from flatten_it_v2(key)  # генерируем ключи\n",
    "                yield from flatten_it_v2(value)  # генерируем значения\n",
    "        else:\n",
    "            for item in nested_obj:  # проходим по элементам итерируемого объекта\n",
    "                yield from flatten_it_v2(item)  # генерируем элементы рекурсивно\n",
    "    else:\n",
    "        yield nested_obj  # генерируем элемент, если он не итерируем"
   ]
  },
  {
   "cell_type": "code",
   "execution_count": 28,
   "id": "7d23b566-d3d8-4ac1-b44e-8451faf6740d",
   "metadata": {},
   "outputs": [
    {
     "name": "stdout",
     "output_type": "stream",
     "text": [
      "[1, 2, 3, 4, 5, 6, 7]\n"
     ]
    }
   ],
   "source": [
    "print([x for x in flatten_it_v2(it_list)])"
   ]
  },
  {
   "cell_type": "markdown",
   "id": "49752584-e7a9-4731-9115-315fbc884b54",
   "metadata": {},
   "source": [
    "### Задание 6.2.3. Функция `flatten_it`: создание, документирование, тестирование"
   ]
  },
  {
   "cell_type": "markdown",
   "id": "acc49e5d-a403-464a-86c6-e4690ea9a760",
   "metadata": {},
   "source": [
    "Объедините две пользовательские функции `flatten_it_v1` и `flatten_it_v2` в одну функцию `flatten_it(nested_obj, gen)`, которая возвращает либо список из элементов вложенных объектов без сохранения структуры, если `gen=False`, либо возвращает генераторный объект, если `gen=True`. Стандартным значением для аргумента gen является объект `False`.\n",
    "\n",
    "Напишите строки документации для функции `flatten_it`.\n",
    "\n",
    "Приведите три примера вызова функции `flatten_it` для различных значений аргументов в предположении, что корректность вводимых данных гарантируется."
   ]
  },
  {
   "cell_type": "code",
   "execution_count": 29,
   "id": "d665b8b4-74cc-488b-817a-e884b00600e7",
   "metadata": {},
   "outputs": [],
   "source": [
    "def flatten_it(nested_obj, gen=False):\n",
    "    \"\"\"\n",
    "    Функция для выравнивания вложенных итерируемых объектов.\n",
    "\n",
    "    Параметры:\n",
    "    nested_obj: любой итерируемый объект (список, кортеж, строка, словарь и т.д.), который может содержать другие вложенные итерируемые объекты.\n",
    "    gen: логическое значение (по умолчанию False). Если True, функция вернет генераторный объект, иначе — список.\n",
    "\n",
    "    Возвращает:\n",
    "    Список или генераторный объект, содержащий элементы вложенной структуры,\n",
    "    выровненные в одномерный вид.\n",
    "\n",
    "    Исключения:\n",
    "    ValueError, если обнаружен циклический объект.\n",
    "    \"\"\"\n",
    "\n",
    "    if gen:\n",
    "        return flatten_it_v2(nested_obj) \n",
    "    else:\n",
    "        return flatten_it_v1(nested_obj) "
   ]
  },
  {
   "cell_type": "code",
   "execution_count": 30,
   "id": "da97af2b-b2a2-405c-bff1-1f70107553a9",
   "metadata": {},
   "outputs": [
    {
     "name": "stdout",
     "output_type": "stream",
     "text": [
      "[1, 2, 3, 4, 5, 6]\n"
     ]
    }
   ],
   "source": [
    "# Пример 1: Вложенный список\n",
    "res_2 = flatten_it([[1, 2], [3, [4, 5]], 6], gen=False)\n",
    "print(res_2)"
   ]
  },
  {
   "cell_type": "code",
   "execution_count": 31,
   "id": "d6ebdf95-e42f-4d29-8233-cd816b3b959c",
   "metadata": {},
   "outputs": [
    {
     "name": "stdout",
     "output_type": "stream",
     "text": [
      "['a', 1, 2, 'b', 'c', 3, 'd', 4, 5]\n"
     ]
    }
   ],
   "source": [
    "# Пример 2: Вложенный словарь\n",
    "res_3 = flatten_it({\"a\": [1, 2], \"b\": {\"c\": 3, \"d\": [4, 5]}}, gen=False)\n",
    "print(res_3)"
   ]
  },
  {
   "cell_type": "code",
   "execution_count": 32,
   "id": "d6d5d6fb-0830-4a99-a504-83d2304082ec",
   "metadata": {},
   "outputs": [
    {
     "name": "stdout",
     "output_type": "stream",
     "text": [
      "[1, 2, 3, 4, 5]\n"
     ]
    }
   ],
   "source": [
    "# Пример 3: Генераторный объект\n",
    "gen_4 = flatten_it([1, [2, [3, 4]], 5], gen=True)\n",
    "res_4 = [x for x in gen_4]\n",
    "print(res_4)"
   ]
  },
  {
   "cell_type": "markdown",
   "id": "bacf844e-22cb-4f84-99d2-484ba1f460b6",
   "metadata": {},
   "source": [
    "### Задание 6.3. Обработка циклических объектов"
   ]
  },
  {
   "cell_type": "code",
   "execution_count": 33,
   "id": "3d337b45-64af-4e70-a7d9-566d434cbf0c",
   "metadata": {},
   "outputs": [],
   "source": [
    "it_list_cyclic = it_list[:]\n",
    "it_list_cyclic.append(it_list_cyclic)"
   ]
  },
  {
   "cell_type": "code",
   "execution_count": 34,
   "id": "4c3a97c3-510e-4e92-ac05-22a13c51e001",
   "metadata": {},
   "outputs": [
    {
     "data": {
      "text/plain": [
       "[[1], [2, [3]], [[[[[4]]]]], 5, 6, 7, [...]]"
      ]
     },
     "execution_count": 34,
     "metadata": {},
     "output_type": "execute_result"
    }
   ],
   "source": [
    "it_list_cyclic"
   ]
  },
  {
   "cell_type": "code",
   "execution_count": 35,
   "id": "4acb86b7-17fb-4d96-9ca3-a47b95c1a50e",
   "metadata": {},
   "outputs": [],
   "source": [
    "def flatten_list_v1(nested_obj):\n",
    "    result = []\n",
    "    if isinstance(nested_obj,list):\n",
    "        for item in nested_obj:\n",
    "            if item is nested_obj:\n",
    "                raise ValueError(\"Cyclic list is found\") # генерация исключения\n",
    "            else:\n",
    "                result += flatten_list_v1(item)\n",
    "    else:\n",
    "        result += [nested_obj]\n",
    "    return result"
   ]
  },
  {
   "cell_type": "code",
   "execution_count": 36,
   "id": "53be1db3-b0c7-46c7-a14e-210157cabcd7",
   "metadata": {},
   "outputs": [
    {
     "data": {
      "text/plain": [
       "[1, 2, 3, 4, 5, 6, 7]"
      ]
     },
     "execution_count": 36,
     "metadata": {},
     "output_type": "execute_result"
    }
   ],
   "source": [
    "flatten_list_v1(it_list)"
   ]
  },
  {
   "cell_type": "code",
   "execution_count": 37,
   "id": "0706e3ab-7866-4420-bc88-9f11d61cbea5",
   "metadata": {},
   "outputs": [
    {
     "ename": "ValueError",
     "evalue": "Cyclic list is found",
     "output_type": "error",
     "traceback": [
      "\u001b[1;31m---------------------------------------------------------------------------\u001b[0m",
      "\u001b[1;31mValueError\u001b[0m                                Traceback (most recent call last)",
      "Cell \u001b[1;32mIn[37], line 1\u001b[0m\n\u001b[1;32m----> 1\u001b[0m flatten_list_v1(it_list_cyclic)\n",
      "Cell \u001b[1;32mIn[35], line 6\u001b[0m, in \u001b[0;36mflatten_list_v1\u001b[1;34m(nested_obj)\u001b[0m\n\u001b[0;32m      4\u001b[0m \u001b[38;5;28;01mfor\u001b[39;00m item \u001b[38;5;129;01min\u001b[39;00m nested_obj:\n\u001b[0;32m      5\u001b[0m     \u001b[38;5;28;01mif\u001b[39;00m item \u001b[38;5;129;01mis\u001b[39;00m nested_obj:\n\u001b[1;32m----> 6\u001b[0m         \u001b[38;5;28;01mraise\u001b[39;00m \u001b[38;5;167;01mValueError\u001b[39;00m(\u001b[38;5;124m\"\u001b[39m\u001b[38;5;124mCyclic list is found\u001b[39m\u001b[38;5;124m\"\u001b[39m) \u001b[38;5;66;03m# генерация исключения\u001b[39;00m\n\u001b[0;32m      7\u001b[0m     \u001b[38;5;28;01melse\u001b[39;00m:\n\u001b[0;32m      8\u001b[0m         result \u001b[38;5;241m+\u001b[39m\u001b[38;5;241m=\u001b[39m flatten_list_v1(item)\n",
      "\u001b[1;31mValueError\u001b[0m: Cyclic list is found"
     ]
    }
   ],
   "source": [
    "flatten_list_v1(it_list_cyclic)"
   ]
  },
  {
   "cell_type": "code",
   "execution_count": 38,
   "id": "c229462c-0e15-47c2-a36b-afab5551c2bb",
   "metadata": {},
   "outputs": [
    {
     "name": "stdout",
     "output_type": "stream",
     "text": [
      "Cyclic list is found\n"
     ]
    }
   ],
   "source": [
    "try:\n",
    "    print(flatten_list_v1(it_list_cyclic))\n",
    "except ValueError as e:\n",
    "    print(e)"
   ]
  },
  {
   "cell_type": "markdown",
   "id": "88438f55-b2e7-4ff2-9009-d842b3f52b2c",
   "metadata": {},
   "source": [
    "### Задание 6.3.1. Доопределение функции `flatten_it`"
   ]
  },
  {
   "cell_type": "markdown",
   "id": "ac757c40-3da9-4108-898b-143d7b891ed1",
   "metadata": {},
   "source": [
    "Доопределите пользовательскую функцию `flatten_it` из Задания 6.2, добавив генерацию исключения `ValueError` с помощью оператора `raise` при обработке циклических списков и циклических словарей."
   ]
  },
  {
   "cell_type": "code",
   "execution_count": 39,
   "id": "b9327fe1-244a-4e43-b6b8-34fc74c896f8",
   "metadata": {},
   "outputs": [],
   "source": [
    "def flatten_it(nested_obj, gen=False):\n",
    "    seen = set()  # для отслеживания уже обработанных объектов\n",
    "\n",
    "    def _flatten(nested_obj):\n",
    "        if id(nested_obj) in seen:  # проверяем на цикличность\n",
    "            raise ValueError(\"Cyclic object is found\")\n",
    "        seen.add(id(nested_obj))\n",
    "\n",
    "        if hasattr(nested_obj, '__iter__') and not isinstance(nested_obj, str):\n",
    "            for item in nested_obj:\n",
    "                yield from _flatten(item)\n",
    "        else:\n",
    "            yield nested_obj\n",
    "\n",
    "    if gen:\n",
    "        return _flatten(nested_obj)\n",
    "    else:\n",
    "        return list(_flatten(nested_obj))"
   ]
  },
  {
   "cell_type": "markdown",
   "id": "6d1c55b4-94b0-4305-b236-4e1edecb6621",
   "metadata": {},
   "source": [
    "### Задание 6.3.2. Тестирование функции `flatten_it`"
   ]
  },
  {
   "cell_type": "raw",
   "id": "cc8feaef-168e-4780-8783-8f4dc2ed061d",
   "metadata": {},
   "source": [
    "Протестируйте функцию `flatten_it`, перехватывая исключение `ValueError` с помощью операторов `try / except` для циклических объектов различных типов."
   ]
  },
  {
   "cell_type": "code",
   "execution_count": 40,
   "id": "56b1bfde-a4c7-4e01-9531-8d45aa9b3803",
   "metadata": {},
   "outputs": [
    {
     "name": "stdout",
     "output_type": "stream",
     "text": [
      "[1, 2, 3, 4]\n"
     ]
    }
   ],
   "source": [
    "# Пример 1: Обычный список\n",
    "try:\n",
    "    result_1 = flatten_it([[1, 2], [3, 4]], gen=False)\n",
    "    print(result_1)\n",
    "except ValueError as e:\n",
    "    print(e)"
   ]
  },
  {
   "cell_type": "code",
   "execution_count": 41,
   "id": "36b662f3-a516-4263-9796-11f798abac53",
   "metadata": {},
   "outputs": [
    {
     "name": "stdout",
     "output_type": "stream",
     "text": [
      "Cyclic object is found\n"
     ]
    }
   ],
   "source": [
    "# Пример 2: Циклический список\n",
    "it_list_cyclic = [[1, 2], [3, 4]]\n",
    "it_list_cyclic.append(it_list_cyclic) \n",
    "try:\n",
    "    flatten_it(it_list_cyclic, gen=False)\n",
    "except ValueError as e:\n",
    "    print(e)"
   ]
  },
  {
   "cell_type": "code",
   "execution_count": 42,
   "id": "d3d1fd8b-c088-41b2-b99c-7e2bacce9d59",
   "metadata": {},
   "outputs": [
    {
     "name": "stdout",
     "output_type": "stream",
     "text": [
      "{'a': 1, 'b': {2: {...}}}\n"
     ]
    }
   ],
   "source": [
    "# Пример 3: Циклический словарь\n",
    "test_cyclic = {'a': 1}\n",
    "test_cyclic['b'] = {2: test_cyclic} \n",
    "try:\n",
    "    flatten_it(test_cyclic, gen=False)\n",
    "except ValueError as e:\n",
    "    print(e)\n",
    "\n",
    "print(test_cyclic)   "
   ]
  },
  {
   "cell_type": "code",
   "execution_count": null,
   "id": "c8f32a45-f50d-4b0c-a792-a15ea3c72c83",
   "metadata": {},
   "outputs": [],
   "source": []
  }
 ],
 "metadata": {
  "kernelspec": {
   "display_name": "Python 3 (ipykernel)",
   "language": "python",
   "name": "python3"
  },
  "language_info": {
   "codemirror_mode": {
    "name": "ipython",
    "version": 3
   },
   "file_extension": ".py",
   "mimetype": "text/x-python",
   "name": "python",
   "nbconvert_exporter": "python",
   "pygments_lexer": "ipython3",
   "version": "3.12.7"
  }
 },
 "nbformat": 4,
 "nbformat_minor": 5
}
